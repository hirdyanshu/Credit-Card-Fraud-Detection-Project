{
 "cells": [
  {
   "cell_type": "markdown",
   "metadata": {},
   "source": [
    "## Credit Card Fraud Detection\n",
    "\n",
    "In this project you will predict fraudulent credit card transactions with the help of Machine learning models. Please import the following libraries to get started."
   ]
  },
  {
   "cell_type": "code",
   "execution_count": 3,
   "metadata": {
    "scrolled": false
   },
   "outputs": [],
   "source": [
    "import numpy as np\n",
    "import pandas as pd\n",
    "\n",
    "import matplotlib.pyplot as plt\n",
    "%matplotlib inline\n",
    "import seaborn as sns\n",
    "\n",
    "from sklearn import metrics\n",
    "from sklearn import preprocessing\n",
    "import warnings\n",
    "warnings.filterwarnings('ignore')"
   ]
  },
  {
   "cell_type": "markdown",
   "metadata": {},
   "source": [
    "## Exploratory data analysis"
   ]
  },
  {
   "cell_type": "code",
   "execution_count": 4,
   "metadata": {},
   "outputs": [
    {
     "data": {
      "text/html": [
       "<div>\n",
       "<style scoped>\n",
       "    .dataframe tbody tr th:only-of-type {\n",
       "        vertical-align: middle;\n",
       "    }\n",
       "\n",
       "    .dataframe tbody tr th {\n",
       "        vertical-align: top;\n",
       "    }\n",
       "\n",
       "    .dataframe thead th {\n",
       "        text-align: right;\n",
       "    }\n",
       "</style>\n",
       "<table border=\"1\" class=\"dataframe\">\n",
       "  <thead>\n",
       "    <tr style=\"text-align: right;\">\n",
       "      <th></th>\n",
       "      <th>Time</th>\n",
       "      <th>V1</th>\n",
       "      <th>V2</th>\n",
       "      <th>V3</th>\n",
       "      <th>V4</th>\n",
       "      <th>V5</th>\n",
       "      <th>V6</th>\n",
       "      <th>V7</th>\n",
       "      <th>V8</th>\n",
       "      <th>V9</th>\n",
       "      <th>...</th>\n",
       "      <th>V21</th>\n",
       "      <th>V22</th>\n",
       "      <th>V23</th>\n",
       "      <th>V24</th>\n",
       "      <th>V25</th>\n",
       "      <th>V26</th>\n",
       "      <th>V27</th>\n",
       "      <th>V28</th>\n",
       "      <th>Amount</th>\n",
       "      <th>Class</th>\n",
       "    </tr>\n",
       "  </thead>\n",
       "  <tbody>\n",
       "    <tr>\n",
       "      <th>0</th>\n",
       "      <td>0.0</td>\n",
       "      <td>-1.359807</td>\n",
       "      <td>-0.072781</td>\n",
       "      <td>2.536347</td>\n",
       "      <td>1.378155</td>\n",
       "      <td>-0.338321</td>\n",
       "      <td>0.462388</td>\n",
       "      <td>0.239599</td>\n",
       "      <td>0.098698</td>\n",
       "      <td>0.363787</td>\n",
       "      <td>...</td>\n",
       "      <td>-0.018307</td>\n",
       "      <td>0.277838</td>\n",
       "      <td>-0.110474</td>\n",
       "      <td>0.066928</td>\n",
       "      <td>0.128539</td>\n",
       "      <td>-0.189115</td>\n",
       "      <td>0.133558</td>\n",
       "      <td>-0.021053</td>\n",
       "      <td>149.62</td>\n",
       "      <td>0</td>\n",
       "    </tr>\n",
       "    <tr>\n",
       "      <th>1</th>\n",
       "      <td>0.0</td>\n",
       "      <td>1.191857</td>\n",
       "      <td>0.266151</td>\n",
       "      <td>0.166480</td>\n",
       "      <td>0.448154</td>\n",
       "      <td>0.060018</td>\n",
       "      <td>-0.082361</td>\n",
       "      <td>-0.078803</td>\n",
       "      <td>0.085102</td>\n",
       "      <td>-0.255425</td>\n",
       "      <td>...</td>\n",
       "      <td>-0.225775</td>\n",
       "      <td>-0.638672</td>\n",
       "      <td>0.101288</td>\n",
       "      <td>-0.339846</td>\n",
       "      <td>0.167170</td>\n",
       "      <td>0.125895</td>\n",
       "      <td>-0.008983</td>\n",
       "      <td>0.014724</td>\n",
       "      <td>2.69</td>\n",
       "      <td>0</td>\n",
       "    </tr>\n",
       "    <tr>\n",
       "      <th>2</th>\n",
       "      <td>1.0</td>\n",
       "      <td>-1.358354</td>\n",
       "      <td>-1.340163</td>\n",
       "      <td>1.773209</td>\n",
       "      <td>0.379780</td>\n",
       "      <td>-0.503198</td>\n",
       "      <td>1.800499</td>\n",
       "      <td>0.791461</td>\n",
       "      <td>0.247676</td>\n",
       "      <td>-1.514654</td>\n",
       "      <td>...</td>\n",
       "      <td>0.247998</td>\n",
       "      <td>0.771679</td>\n",
       "      <td>0.909412</td>\n",
       "      <td>-0.689281</td>\n",
       "      <td>-0.327642</td>\n",
       "      <td>-0.139097</td>\n",
       "      <td>-0.055353</td>\n",
       "      <td>-0.059752</td>\n",
       "      <td>378.66</td>\n",
       "      <td>0</td>\n",
       "    </tr>\n",
       "    <tr>\n",
       "      <th>3</th>\n",
       "      <td>1.0</td>\n",
       "      <td>-0.966272</td>\n",
       "      <td>-0.185226</td>\n",
       "      <td>1.792993</td>\n",
       "      <td>-0.863291</td>\n",
       "      <td>-0.010309</td>\n",
       "      <td>1.247203</td>\n",
       "      <td>0.237609</td>\n",
       "      <td>0.377436</td>\n",
       "      <td>-1.387024</td>\n",
       "      <td>...</td>\n",
       "      <td>-0.108300</td>\n",
       "      <td>0.005274</td>\n",
       "      <td>-0.190321</td>\n",
       "      <td>-1.175575</td>\n",
       "      <td>0.647376</td>\n",
       "      <td>-0.221929</td>\n",
       "      <td>0.062723</td>\n",
       "      <td>0.061458</td>\n",
       "      <td>123.50</td>\n",
       "      <td>0</td>\n",
       "    </tr>\n",
       "    <tr>\n",
       "      <th>4</th>\n",
       "      <td>2.0</td>\n",
       "      <td>-1.158233</td>\n",
       "      <td>0.877737</td>\n",
       "      <td>1.548718</td>\n",
       "      <td>0.403034</td>\n",
       "      <td>-0.407193</td>\n",
       "      <td>0.095921</td>\n",
       "      <td>0.592941</td>\n",
       "      <td>-0.270533</td>\n",
       "      <td>0.817739</td>\n",
       "      <td>...</td>\n",
       "      <td>-0.009431</td>\n",
       "      <td>0.798278</td>\n",
       "      <td>-0.137458</td>\n",
       "      <td>0.141267</td>\n",
       "      <td>-0.206010</td>\n",
       "      <td>0.502292</td>\n",
       "      <td>0.219422</td>\n",
       "      <td>0.215153</td>\n",
       "      <td>69.99</td>\n",
       "      <td>0</td>\n",
       "    </tr>\n",
       "  </tbody>\n",
       "</table>\n",
       "<p>5 rows × 31 columns</p>\n",
       "</div>"
      ],
      "text/plain": [
       "   Time        V1        V2        V3        V4        V5        V6        V7  \\\n",
       "0   0.0 -1.359807 -0.072781  2.536347  1.378155 -0.338321  0.462388  0.239599   \n",
       "1   0.0  1.191857  0.266151  0.166480  0.448154  0.060018 -0.082361 -0.078803   \n",
       "2   1.0 -1.358354 -1.340163  1.773209  0.379780 -0.503198  1.800499  0.791461   \n",
       "3   1.0 -0.966272 -0.185226  1.792993 -0.863291 -0.010309  1.247203  0.237609   \n",
       "4   2.0 -1.158233  0.877737  1.548718  0.403034 -0.407193  0.095921  0.592941   \n",
       "\n",
       "         V8        V9  ...       V21       V22       V23       V24       V25  \\\n",
       "0  0.098698  0.363787  ... -0.018307  0.277838 -0.110474  0.066928  0.128539   \n",
       "1  0.085102 -0.255425  ... -0.225775 -0.638672  0.101288 -0.339846  0.167170   \n",
       "2  0.247676 -1.514654  ...  0.247998  0.771679  0.909412 -0.689281 -0.327642   \n",
       "3  0.377436 -1.387024  ... -0.108300  0.005274 -0.190321 -1.175575  0.647376   \n",
       "4 -0.270533  0.817739  ... -0.009431  0.798278 -0.137458  0.141267 -0.206010   \n",
       "\n",
       "        V26       V27       V28  Amount  Class  \n",
       "0 -0.189115  0.133558 -0.021053  149.62      0  \n",
       "1  0.125895 -0.008983  0.014724    2.69      0  \n",
       "2 -0.139097 -0.055353 -0.059752  378.66      0  \n",
       "3 -0.221929  0.062723  0.061458  123.50      0  \n",
       "4  0.502292  0.219422  0.215153   69.99      0  \n",
       "\n",
       "[5 rows x 31 columns]"
      ]
     },
     "execution_count": 4,
     "metadata": {},
     "output_type": "execute_result"
    }
   ],
   "source": [
    "df = pd.read_csv('creditcard.csv')\n",
    "df.head()"
   ]
  },
  {
   "cell_type": "code",
   "execution_count": 5,
   "metadata": {},
   "outputs": [
    {
     "name": "stdout",
     "output_type": "stream",
     "text": [
      "<class 'pandas.core.frame.DataFrame'>\n",
      "RangeIndex: 284807 entries, 0 to 284806\n",
      "Data columns (total 31 columns):\n",
      " #   Column  Non-Null Count   Dtype  \n",
      "---  ------  --------------   -----  \n",
      " 0   Time    284807 non-null  float64\n",
      " 1   V1      284807 non-null  float64\n",
      " 2   V2      284807 non-null  float64\n",
      " 3   V3      284807 non-null  float64\n",
      " 4   V4      284807 non-null  float64\n",
      " 5   V5      284807 non-null  float64\n",
      " 6   V6      284807 non-null  float64\n",
      " 7   V7      284807 non-null  float64\n",
      " 8   V8      284807 non-null  float64\n",
      " 9   V9      284807 non-null  float64\n",
      " 10  V10     284807 non-null  float64\n",
      " 11  V11     284807 non-null  float64\n",
      " 12  V12     284807 non-null  float64\n",
      " 13  V13     284807 non-null  float64\n",
      " 14  V14     284807 non-null  float64\n",
      " 15  V15     284807 non-null  float64\n",
      " 16  V16     284807 non-null  float64\n",
      " 17  V17     284807 non-null  float64\n",
      " 18  V18     284807 non-null  float64\n",
      " 19  V19     284807 non-null  float64\n",
      " 20  V20     284807 non-null  float64\n",
      " 21  V21     284807 non-null  float64\n",
      " 22  V22     284807 non-null  float64\n",
      " 23  V23     284807 non-null  float64\n",
      " 24  V24     284807 non-null  float64\n",
      " 25  V25     284807 non-null  float64\n",
      " 26  V26     284807 non-null  float64\n",
      " 27  V27     284807 non-null  float64\n",
      " 28  V28     284807 non-null  float64\n",
      " 29  Amount  284807 non-null  float64\n",
      " 30  Class   284807 non-null  int64  \n",
      "dtypes: float64(30), int64(1)\n",
      "memory usage: 67.4 MB\n"
     ]
    }
   ],
   "source": [
    "#observe the different feature type present in the data\n",
    "df.info()"
   ]
  },
  {
   "cell_type": "markdown",
   "metadata": {},
   "source": [
    "Here we will observe the distribution of our classes"
   ]
  },
  {
   "cell_type": "code",
   "execution_count": 6,
   "metadata": {},
   "outputs": [
    {
     "name": "stdout",
     "output_type": "stream",
     "text": [
      "99.82725143693798\n",
      "0.1727485630620034\n"
     ]
    }
   ],
   "source": [
    "classes=df['Class'].value_counts()\n",
    "normal_share=classes[0]/df['Class'].count()*100\n",
    "fraud_share=classes[1]/df['Class'].count()*100\n",
    "print(normal_share)\n",
    "print(fraud_share)"
   ]
  },
  {
   "cell_type": "code",
   "execution_count": 7,
   "metadata": {},
   "outputs": [
    {
     "data": {
      "image/png": "[encoded data removed]",
      "text/plain": [
       "<Figure size 504x360 with 1 Axes>"
      ]
     },
     "metadata": {
      "needs_background": "light"
     },
     "output_type": "display_data"
    }
   ],
   "source": [
    "# Create a bar plot for the number and percentage of fraudulent vs non-fraudulent transcations\n",
    "plt.figure(figsize=(7,5))\n",
    "df.Class.value_counts(normalize=True).plot.bar()\n",
    "plt.xlabel(\"Is fraud?\", fontsize=15)\n",
    "plt.ylabel(\"Percentage\", fontsize=15)\n",
    "plt.show()"
   ]
  },
  {
   "cell_type": "code",
   "execution_count": 8,
   "metadata": {},
   "outputs": [
    {
     "data": {
      "text/plain": [
       "Text(0.5, 1.0, 'Class Distributions \\n (0: No Fraud || 1: Fraud)')"
      ]
     },
     "execution_count": 8,
     "metadata": {},
     "output_type": "execute_result"
    },
    {
     "data": {
      "image/png": "[encoded data removed]",
      "text/plain": [
       "<Figure size 432x288 with 1 Axes>"
      ]
     },
     "metadata": {
      "needs_background": "light"
     },
     "output_type": "display_data"
    }
   ],
   "source": [
    "sns.countplot('Class', data=df, palette=[\"#0101DF\", \"#DF0101\"])\n",
    "plt.title('Class Distributions \\n (0: No Fraud || 1: Fraud)', fontsize=14)"
   ]
  },
  {
   "cell_type": "code",
   "execution_count": 9,
   "metadata": {},
   "outputs": [
    {
     "data": {
      "image/png": "[encoded data removed]",
      "text/plain": [
       "<Figure size 432x288 with 1 Axes>"
      ]
     },
     "metadata": {
      "needs_background": "light"
     },
     "output_type": "display_data"
    }
   ],
   "source": [
    "# Create a scatter plot to observe the distribution of classes with time\n",
    "time_val = df['Time'].values\n",
    "class_val = df['Class'].values\n",
    "plt.scatter(x=time_val, y=class_val)\n",
    "plt.show()"
   ]
  },
  {
   "cell_type": "code",
   "execution_count": 10,
   "metadata": {},
   "outputs": [
    {
     "data": {
      "image/png": "[encoded data removed]",
      "text/plain": [
       "<Figure size 864x432 with 2 Axes>"
      ]
     },
     "metadata": {
      "needs_background": "light"
     },
     "output_type": "display_data"
    }
   ],
   "source": [
    "f, (ax1, ax2) = plt.subplots(2, 1, sharex=True, figsize=(12,6))\n",
    "\n",
    "ax1.scatter(df.Time[df.Class == 1], df.Amount[df.Class == 1])\n",
    "ax1.set_title('Fraud')\n",
    "\n",
    "ax2.scatter(df.Time[df.Class == 0], df.Amount[df.Class == 0])\n",
    "ax2.set_title('Normal')\n",
    "\n",
    "plt.xlabel('Time (in Seconds)')\n",
    "plt.ylabel('Amount')\n",
    "plt.show()"
   ]
  },
  {
   "cell_type": "code",
   "execution_count": 11,
   "metadata": {},
   "outputs": [
    {
     "data": {
      "image/png": "[encoded data removed]",
      "text/plain": [
       "<Figure size 474.375x432 with 1 Axes>"
      ]
     },
     "metadata": {},
     "output_type": "display_data"
    }
   ],
   "source": [
    "import seaborn as sns\n",
    "import matplotlib.pyplot as plt\n",
    "plt.style.use(\"ggplot\")\n",
    "sns.FacetGrid(df, hue=\"Class\", height = 6).map(plt.scatter, \"Time\", \"Amount\", edgecolor=\"k\").add_legend()\n",
    "plt.show()"
   ]
  },
  {
   "cell_type": "markdown",
   "metadata": {},
   "source": [
    "### The above plot shows that there are frauds only on the transactions which have transaction amount less than 2500 (approx). However, the frauds in the transactions are evenly distributed throughout all times."
   ]
  },
  {
   "cell_type": "markdown",
   "metadata": {},
   "source": [
    "### Splitting the data into train & test data"
   ]
  },
  {
   "cell_type": "code",
   "execution_count": 12,
   "metadata": {},
   "outputs": [],
   "source": [
    "y= df['Class'] #class variable\n",
    "X = df.drop(['Class'],axis=1)"
   ]
  },
  {
   "cell_type": "code",
   "execution_count": 13,
   "metadata": {},
   "outputs": [],
   "source": [
    "from sklearn import model_selection\n",
    "from sklearn.model_selection import train_test_split\n",
    "X_train, X_test, y_train, y_test = train_test_split(X,y,train_size=0.7,random_state=100)"
   ]
  },
  {
   "cell_type": "markdown",
   "metadata": {},
   "source": [
    "##### Preserve X_test & y_test to evaluate on the test data once you build the model"
   ]
  },
  {
   "cell_type": "code",
   "execution_count": 14,
   "metadata": {},
   "outputs": [
    {
     "name": "stdout",
     "output_type": "stream",
     "text": [
      "492\n",
      "350\n",
      "142\n"
     ]
    }
   ],
   "source": [
    "print(np.sum(y))\n",
    "print(np.sum(y_train))\n",
    "print(np.sum(y_test))"
   ]
  },
  {
   "cell_type": "markdown",
   "metadata": {},
   "source": [
    "### Plotting the distribution of a variable"
   ]
  },
  {
   "cell_type": "code",
   "execution_count": 15,
   "metadata": {},
   "outputs": [
    {
     "data": {
      "text/plain": [
       "<AxesSubplot:xlabel='V1', ylabel='Density'>"
      ]
     },
     "execution_count": 15,
     "metadata": {},
     "output_type": "execute_result"
    },
    {
     "data": {
      "image/png": "[encoded data removed]",
      "text/plain": [
       "<Figure size 432x288 with 1 Axes>"
      ]
     },
     "metadata": {},
     "output_type": "display_data"
    }
   ],
   "source": [
    "# plot the histogram of a variable from the dataset to see the skewness\n",
    "sns.distplot(X_train['V1'])"
   ]
  },
  {
   "cell_type": "code",
   "execution_count": 16,
   "metadata": {},
   "outputs": [
    {
     "data": {
      "text/plain": [
       "<AxesSubplot:xlabel='Amount', ylabel='Density'>"
      ]
     },
     "execution_count": 16,
     "metadata": {},
     "output_type": "execute_result"
    },
    {
     "data": {
      "image/png": "[encoded data removed]",
      "text/plain": [
       "<Figure size 432x288 with 1 Axes>"
      ]
     },
     "metadata": {},
     "output_type": "display_data"
    }
   ],
   "source": [
    "sns.distplot(X_train['Amount'])"
   ]
  },
  {
   "cell_type": "code",
   "execution_count": 17,
   "metadata": {},
   "outputs": [
    {
     "data": {
      "text/plain": [
       "<AxesSubplot:xlabel='V2', ylabel='Density'>"
      ]
     },
     "execution_count": 17,
     "metadata": {},
     "output_type": "execute_result"
    },
    {
     "data": {
      "image/png": "[encoded data removed]",
      "text/plain": [
       "<Figure size 432x288 with 1 Axes>"
      ]
     },
     "metadata": {},
     "output_type": "display_data"
    }
   ],
   "source": [
    "sns.distplot(X_train['V2'])"
   ]
  },
  {
   "cell_type": "markdown",
   "metadata": {},
   "source": [
    "### If there is skewness present in the distribution use:\n",
    "- <b>Power Transformer</b> package present in the <b>preprocessing library provided by sklearn</b> to make distribution more gaussian"
   ]
  },
  {
   "cell_type": "code",
   "execution_count": 18,
   "metadata": {},
   "outputs": [],
   "source": [
    "# - Apply : preprocessing.PowerTransformer(copy=False) to fit & transform the train & test data\n",
    "from sklearn.preprocessing import PowerTransformer\n",
    "pt = PowerTransformer(method='yeo-johnson', standardize=True, copy=False) \n",
    "X_train = pt.fit_transform(X_train)\n",
    "X_test = pt.transform(X_test)"
   ]
  },
  {
   "cell_type": "code",
   "execution_count": 19,
   "metadata": {},
   "outputs": [],
   "source": [
    "X_train = pd.DataFrame(X_train, columns = df.columns[:-1])"
   ]
  },
  {
   "cell_type": "code",
   "execution_count": 20,
   "metadata": {},
   "outputs": [
    {
     "data": {
      "text/html": [
       "<div>\n",
       "<style scoped>\n",
       "    .dataframe tbody tr th:only-of-type {\n",
       "        vertical-align: middle;\n",
       "    }\n",
       "\n",
       "    .dataframe tbody tr th {\n",
       "        vertical-align: top;\n",
       "    }\n",
       "\n",
       "    .dataframe thead th {\n",
       "        text-align: right;\n",
       "    }\n",
       "</style>\n",
       "<table border=\"1\" class=\"dataframe\">\n",
       "  <thead>\n",
       "    <tr style=\"text-align: right;\">\n",
       "      <th></th>\n",
       "      <th>Time</th>\n",
       "      <th>V1</th>\n",
       "      <th>V2</th>\n",
       "      <th>V3</th>\n",
       "      <th>V4</th>\n",
       "      <th>V5</th>\n",
       "      <th>V6</th>\n",
       "      <th>V7</th>\n",
       "      <th>V8</th>\n",
       "      <th>V9</th>\n",
       "      <th>...</th>\n",
       "      <th>V20</th>\n",
       "      <th>V21</th>\n",
       "      <th>V22</th>\n",
       "      <th>V23</th>\n",
       "      <th>V24</th>\n",
       "      <th>V25</th>\n",
       "      <th>V26</th>\n",
       "      <th>V27</th>\n",
       "      <th>V28</th>\n",
       "      <th>Amount</th>\n",
       "    </tr>\n",
       "  </thead>\n",
       "  <tbody>\n",
       "    <tr>\n",
       "      <th>0</th>\n",
       "      <td>-1.977762</td>\n",
       "      <td>0.598470</td>\n",
       "      <td>-0.076635</td>\n",
       "      <td>0.414364</td>\n",
       "      <td>0.017924</td>\n",
       "      <td>-0.150960</td>\n",
       "      <td>0.345395</td>\n",
       "      <td>-0.423005</td>\n",
       "      <td>0.053042</td>\n",
       "      <td>1.152344</td>\n",
       "      <td>...</td>\n",
       "      <td>-0.142787</td>\n",
       "      <td>-0.217742</td>\n",
       "      <td>-0.215110</td>\n",
       "      <td>0.229615</td>\n",
       "      <td>-0.518220</td>\n",
       "      <td>-0.140181</td>\n",
       "      <td>1.711153</td>\n",
       "      <td>-0.180481</td>\n",
       "      <td>-0.027825</td>\n",
       "      <td>-1.853467</td>\n",
       "    </tr>\n",
       "    <tr>\n",
       "      <th>1</th>\n",
       "      <td>0.730062</td>\n",
       "      <td>1.445565</td>\n",
       "      <td>-0.134373</td>\n",
       "      <td>-0.902690</td>\n",
       "      <td>0.208193</td>\n",
       "      <td>0.136115</td>\n",
       "      <td>-0.409005</td>\n",
       "      <td>0.073299</td>\n",
       "      <td>-0.252318</td>\n",
       "      <td>0.277355</td>\n",
       "      <td>...</td>\n",
       "      <td>-0.220963</td>\n",
       "      <td>-0.355324</td>\n",
       "      <td>-0.881595</td>\n",
       "      <td>0.418801</td>\n",
       "      <td>-0.841362</td>\n",
       "      <td>-0.510193</td>\n",
       "      <td>0.511993</td>\n",
       "      <td>-0.206056</td>\n",
       "      <td>-0.220886</td>\n",
       "      <td>-1.446662</td>\n",
       "    </tr>\n",
       "    <tr>\n",
       "      <th>2</th>\n",
       "      <td>-0.254749</td>\n",
       "      <td>0.843049</td>\n",
       "      <td>-0.987411</td>\n",
       "      <td>-0.652970</td>\n",
       "      <td>-1.919788</td>\n",
       "      <td>0.423178</td>\n",
       "      <td>2.278265</td>\n",
       "      <td>-1.478071</td>\n",
       "      <td>0.853644</td>\n",
       "      <td>-1.629738</td>\n",
       "      <td>...</td>\n",
       "      <td>-0.090662</td>\n",
       "      <td>-0.009865</td>\n",
       "      <td>0.104342</td>\n",
       "      <td>-0.203779</td>\n",
       "      <td>1.917859</td>\n",
       "      <td>0.990486</td>\n",
       "      <td>0.014536</td>\n",
       "      <td>0.099397</td>\n",
       "      <td>0.107899</td>\n",
       "      <td>0.706491</td>\n",
       "    </tr>\n",
       "    <tr>\n",
       "      <th>3</th>\n",
       "      <td>1.193842</td>\n",
       "      <td>-0.326321</td>\n",
       "      <td>0.805913</td>\n",
       "      <td>-0.366669</td>\n",
       "      <td>-0.296532</td>\n",
       "      <td>0.512231</td>\n",
       "      <td>-0.805682</td>\n",
       "      <td>0.794658</td>\n",
       "      <td>-0.185940</td>\n",
       "      <td>0.130993</td>\n",
       "      <td>...</td>\n",
       "      <td>0.173877</td>\n",
       "      <td>-0.457294</td>\n",
       "      <td>-1.012077</td>\n",
       "      <td>0.252022</td>\n",
       "      <td>1.861162</td>\n",
       "      <td>-0.857357</td>\n",
       "      <td>0.288656</td>\n",
       "      <td>0.854371</td>\n",
       "      <td>0.473371</td>\n",
       "      <td>-1.576187</td>\n",
       "    </tr>\n",
       "    <tr>\n",
       "      <th>4</th>\n",
       "      <td>-0.980315</td>\n",
       "      <td>0.566536</td>\n",
       "      <td>-0.144094</td>\n",
       "      <td>0.637616</td>\n",
       "      <td>0.445581</td>\n",
       "      <td>-0.564414</td>\n",
       "      <td>0.053504</td>\n",
       "      <td>-0.482081</td>\n",
       "      <td>0.184401</td>\n",
       "      <td>0.269297</td>\n",
       "      <td>...</td>\n",
       "      <td>-0.222159</td>\n",
       "      <td>0.013937</td>\n",
       "      <td>-0.092414</td>\n",
       "      <td>0.225649</td>\n",
       "      <td>0.287704</td>\n",
       "      <td>-0.037162</td>\n",
       "      <td>0.529867</td>\n",
       "      <td>-0.020486</td>\n",
       "      <td>0.051746</td>\n",
       "      <td>-0.715547</td>\n",
       "    </tr>\n",
       "  </tbody>\n",
       "</table>\n",
       "<p>5 rows × 30 columns</p>\n",
       "</div>"
      ],
      "text/plain": [
       "       Time        V1        V2        V3        V4        V5        V6  \\\n",
       "0 -1.977762  0.598470 -0.076635  0.414364  0.017924 -0.150960  0.345395   \n",
       "1  0.730062  1.445565 -0.134373 -0.902690  0.208193  0.136115 -0.409005   \n",
       "2 -0.254749  0.843049 -0.987411 -0.652970 -1.919788  0.423178  2.278265   \n",
       "3  1.193842 -0.326321  0.805913 -0.366669 -0.296532  0.512231 -0.805682   \n",
       "4 -0.980315  0.566536 -0.144094  0.637616  0.445581 -0.564414  0.053504   \n",
       "\n",
       "         V7        V8        V9  ...       V20       V21       V22       V23  \\\n",
       "0 -0.423005  0.053042  1.152344  ... -0.142787 -0.217742 -0.215110  0.229615   \n",
       "1  0.073299 -0.252318  0.277355  ... -0.220963 -0.355324 -0.881595  0.418801   \n",
       "2 -1.478071  0.853644 -1.629738  ... -0.090662 -0.009865  0.104342 -0.203779   \n",
       "3  0.794658 -0.185940  0.130993  ...  0.173877 -0.457294 -1.012077  0.252022   \n",
       "4 -0.482081  0.184401  0.269297  ... -0.222159  0.013937 -0.092414  0.225649   \n",
       "\n",
       "        V24       V25       V26       V27       V28    Amount  \n",
       "0 -0.518220 -0.140181  1.711153 -0.180481 -0.027825 -1.853467  \n",
       "1 -0.841362 -0.510193  0.511993 -0.206056 -0.220886 -1.446662  \n",
       "2  1.917859  0.990486  0.014536  0.099397  0.107899  0.706491  \n",
       "3  1.861162 -0.857357  0.288656  0.854371  0.473371 -1.576187  \n",
       "4  0.287704 -0.037162  0.529867 -0.020486  0.051746 -0.715547  \n",
       "\n",
       "[5 rows x 30 columns]"
      ]
     },
     "execution_count": 20,
     "metadata": {},
     "output_type": "execute_result"
    }
   ],
   "source": [
    "X_train.head()"
   ]
  },
  {
   "cell_type": "code",
   "execution_count": 21,
   "metadata": {},
   "outputs": [
    {
     "data": {
      "image/png": "[encoded data removed]",
      "text/plain": [
       "<Figure size 432x288 with 1 Axes>"
      ]
     },
     "metadata": {},
     "output_type": "display_data"
    }
   ],
   "source": [
    "# plot the histogram of a variable from the dataset again to see the result \n",
    "sns.distplot(X_train['V1'])\n",
    "plt.show()"
   ]
  },
  {
   "cell_type": "code",
   "execution_count": 22,
   "metadata": {},
   "outputs": [
    {
     "data": {
      "image/png": "[encoded data removed]",
      "text/plain": [
       "<Figure size 432x288 with 1 Axes>"
      ]
     },
     "metadata": {},
     "output_type": "display_data"
    }
   ],
   "source": [
    "sns.distplot(X_train['Amount'])\n",
    "plt.show()"
   ]
  },
  {
   "cell_type": "code",
   "execution_count": 23,
   "metadata": {},
   "outputs": [
    {
     "data": {
      "image/png": "[encoded data removed]",
      "text/plain": [
       "<Figure size 432x288 with 1 Axes>"
      ]
     },
     "metadata": {},
     "output_type": "display_data"
    }
   ],
   "source": [
    "sns.distplot(X_train['V2'])\n",
    "plt.show()"
   ]
  },
  {
   "cell_type": "markdown",
   "metadata": {},
   "source": [
    "## Model Building\n",
    "- Build different models on the imbalanced dataset and see the result"
   ]
  },
  {
   "cell_type": "markdown",
   "metadata": {},
   "source": [
    "## Logistic Regression"
   ]
  },
  {
   "cell_type": "code",
   "execution_count": 24,
   "metadata": {
    "scrolled": false
   },
   "outputs": [
    {
     "name": "stdout",
     "output_type": "stream",
     "text": [
      "Accuracy :  99.93\n",
      "Recall :  70.0\n",
      "Precision :  90.41\n"
     ]
    }
   ],
   "source": [
    "from sklearn.linear_model import LogisticRegression #import the package\n",
    "logreg = LogisticRegression()\n",
    "model_logreg = logreg.fit(X_train, y_train)\n",
    "y_train_pred = model_logreg.predict(X_train)\n",
    "print(\"Accuracy : \", round(100*metrics.accuracy_score(y_train, y_train_pred),2))\n",
    "print(\"Recall : \", round(100*metrics.recall_score(y_train, y_train_pred),2))\n",
    "print(\"Precision : \", round(100*metrics.precision_score(y_train, y_train_pred),2))"
   ]
  },
  {
   "cell_type": "markdown",
   "metadata": {},
   "source": [
    "#### perfom cross validation on the X_train & y_train to create:\n",
    "- X_train_cv\n",
    "- X_test_cv \n",
    "- y_train_cv\n",
    "- y_test_cv "
   ]
  },
  {
   "cell_type": "code",
   "execution_count": 25,
   "metadata": {},
   "outputs": [
    {
     "name": "stdout",
     "output_type": "stream",
     "text": [
      ">Train: 0=227452, 1=393, Test: 0=56863, 1=99\n",
      ">Train: 0=227452, 1=393, Test: 0=56863, 1=99\n",
      ">Train: 0=227452, 1=394, Test: 0=56863, 1=98\n",
      ">Train: 0=227452, 1=394, Test: 0=56863, 1=98\n",
      ">Train: 0=227452, 1=394, Test: 0=56863, 1=98\n"
     ]
    }
   ],
   "source": [
    "#perform cross validation\n",
    "from sklearn.model_selection import StratifiedKFold\n",
    "skf = StratifiedKFold(n_splits=5, shuffle=True, random_state=1)\n",
    "target = df.loc[:,'Class']\n",
    "for train_ix, test_ix in skf.split(df, target):\n",
    "    # select rows\n",
    "    X_train_cv, X_test_cv = X.iloc[train_ix], X.iloc[test_ix]\n",
    "    y_train_cv, y_test_cv = target.iloc[train_ix], target.iloc[test_ix]\n",
    "    # summarize train and test composition\n",
    "    train_0, train_1 = len(y_train_cv[y_train_cv==0]), len(y_train_cv[y_train_cv==1])\n",
    "    test_0, test_1 = len(y_test_cv[y_test_cv==0]), len(y_test_cv[y_test_cv==1])\n",
    "    print('>Train: 0=%d, 1=%d, Test: 0=%d, 1=%d' % (train_0, train_1, test_0, test_1))"
   ]
  },
  {
   "cell_type": "code",
   "execution_count": 26,
   "metadata": {},
   "outputs": [
    {
     "name": "stdout",
     "output_type": "stream",
     "text": [
      "Accuracy :  99.9\n",
      "Recall :  66.5\n",
      "Precision :  72.98\n"
     ]
    }
   ],
   "source": [
    "#Logistic Regression after CV\n",
    "logreg = LogisticRegression()\n",
    "model_logreg = logreg.fit(X_train_cv, y_train_cv)\n",
    "#Predicting on train set\n",
    "y_train_pred = model_logreg.predict(X_train_cv)\n",
    "print(\"Accuracy : \", round(100*metrics.accuracy_score(y_train_cv, y_train_pred),2))\n",
    "print(\"Recall : \", round(100*metrics.recall_score(y_train_cv, y_train_pred),2))\n",
    "print(\"Precision : \", round(100*metrics.precision_score(y_train_cv, y_train_pred),2))"
   ]
  },
  {
   "cell_type": "code",
   "execution_count": 27,
   "metadata": {},
   "outputs": [
    {
     "name": "stdout",
     "output_type": "stream",
     "text": [
      "Accuracy :  99.91\n",
      "Recall :  67.35\n",
      "Precision :  75.86\n"
     ]
    }
   ],
   "source": [
    "#Predicting on test set\n",
    "y_test_pred = logreg.predict(X_test_cv)\n",
    "print(\"Accuracy : \", round(100*metrics.accuracy_score(y_test_cv, y_test_pred),2))\n",
    "print(\"Recall : \", round(100*metrics.recall_score(y_test_cv, y_test_pred),2))\n",
    "print(\"Precision : \", round(100*metrics.precision_score(y_test_cv, y_test_pred),2))"
   ]
  },
  {
   "cell_type": "code",
   "execution_count": 29,
   "metadata": {},
   "outputs": [],
   "source": [
    "#perform hyperparameter tuning\n",
    "from sklearn.model_selection import RandomizedSearchCV\n",
    "\n",
    "# Parameter grid\n",
    "params = [{'penalty' : ['none', 'l1', 'l2', 'elasticnet'],\n",
    "              'C' : [10, 1.0, 0.1,],\n",
    "              'solver' : ['lbfgs','newton-cg','liblinear']}]\n",
    "\n",
    "#specify model\n",
    "logreg = LogisticRegression()\n",
    "\n",
    "# Create random search object\n",
    "logreg_cv = RandomizedSearchCV(estimator=logreg, n_iter=50,\n",
    "                         param_distributions = params, \n",
    "                        scoring = 'recall',\n",
    "                         cv = skf,\n",
    "                         verbose=1,\n",
    "                         n_jobs=-1)\n"
   ]
  },
  {
   "cell_type": "code",
   "execution_count": 31,
   "metadata": {},
   "outputs": [
    {
     "name": "stdout",
     "output_type": "stream",
     "text": [
      "Fitting 5 folds for each of 36 candidates, totalling 180 fits\n"
     ]
    },
    {
     "name": "stderr",
     "output_type": "stream",
     "text": [
      "[Parallel(n_jobs=-1)]: Using backend LokyBackend with 12 concurrent workers.\n",
      "[Parallel(n_jobs=-1)]: Done  26 tasks      | elapsed:   44.0s\n",
      "[Parallel(n_jobs=-1)]: Done 180 out of 180 | elapsed:  5.6min finished\n"
     ]
    },
    {
     "name": "stdout",
     "output_type": "stream",
     "text": [
      "Wall time: 5min 38s\n"
     ]
    },
    {
     "data": {
      "text/plain": [
       "RandomizedSearchCV(cv=StratifiedKFold(n_splits=5, random_state=1, shuffle=True),\n",
       "                   estimator=LogisticRegression(), n_iter=50, n_jobs=-1,\n",
       "                   param_distributions=[{'C': [10, 1.0, 0.1],\n",
       "                                         'penalty': ['none', 'l1', 'l2',\n",
       "                                                     'elasticnet'],\n",
       "                                         'solver': ['lbfgs', 'newton-cg',\n",
       "                                                    'liblinear']}],\n",
       "                   scoring='recall', verbose=1)"
      ]
     },
     "execution_count": 31,
     "metadata": {},
     "output_type": "execute_result"
    }
   ],
   "source": [
    "%%time\n",
    "# Fit on data\n",
    "logreg_cv.fit(X_train_cv, y_train_cv)"
   ]
  },
  {
   "cell_type": "code",
   "execution_count": 27,
   "metadata": {},
   "outputs": [
    {
     "name": "stdout",
     "output_type": "stream",
     "text": [
      "{'solver': 'lbfgs', 'penalty': 'none', 'C': 10}\n",
      "0.6753975981824083\n",
      "LogisticRegression(C=10, penalty='none')\n"
     ]
    }
   ],
   "source": [
    "print(logreg_cv.best_params_)\n",
    "print(logreg_cv.best_score_)\n",
    "print(logreg_cv.best_estimator_)"
   ]
  },
  {
   "cell_type": "code",
   "execution_count": 28,
   "metadata": {},
   "outputs": [
    {
     "name": "stdout",
     "output_type": "stream",
     "text": [
      "Accuracy :  99.9\n",
      "Recall :  67.01\n",
      "Precision :  70.97\n"
     ]
    }
   ],
   "source": [
    "#Fitting Logistic Regression with best parameters on train set\n",
    "logreg = LogisticRegression(C=10, penalty= 'none',solver= 'lbfgs')\n",
    "logregcv = logreg.fit(X_train_cv, y_train_cv)\n",
    "y_train_pred = logregcv.predict(X_train_cv)\n",
    "print(\"Accuracy : \", round(100*metrics.accuracy_score(y_train_cv, y_train_pred),2))\n",
    "print(\"Recall : \", round(100*metrics.recall_score(y_train_cv, y_train_pred),2))\n",
    "print(\"Precision : \", round(100*metrics.precision_score(y_train_cv, y_train_pred),2))"
   ]
  },
  {
   "cell_type": "code",
   "execution_count": 29,
   "metadata": {},
   "outputs": [
    {
     "name": "stdout",
     "output_type": "stream",
     "text": [
      "Accuracy :  99.89\n",
      "Recall :  65.31\n",
      "Precision :  68.82\n"
     ]
    }
   ],
   "source": [
    "#Fitting on test set\n",
    "y_test_pred = logregcv.predict(X_test_cv)\n",
    "print(\"Accuracy : \", round(100*metrics.accuracy_score(y_test_cv, y_test_pred),2))\n",
    "print(\"Recall : \", round(100*metrics.recall_score(y_test_cv, y_test_pred),2))\n",
    "print(\"Precision : \", round(100*metrics.precision_score(y_test_cv, y_test_pred),2))"
   ]
  },
  {
   "cell_type": "markdown",
   "metadata": {},
   "source": [
    "### Similarly explore other algorithms by building models like:\n",
    "- KNN\n",
    "- SVM\n",
    "- Decision Tree\n",
    "- Random Forest\n",
    "- XGBoost"
   ]
  },
  {
   "cell_type": "markdown",
   "metadata": {},
   "source": [
    "## Random Forest"
   ]
  },
  {
   "cell_type": "code",
   "execution_count": 30,
   "metadata": {},
   "outputs": [
    {
     "data": {
      "text/plain": [
       "RandomForestClassifier(n_jobs=-1, random_state=42)"
      ]
     },
     "execution_count": 30,
     "metadata": {},
     "output_type": "execute_result"
    }
   ],
   "source": [
    "from sklearn.ensemble import RandomForestClassifier\n",
    "rfc = RandomForestClassifier(random_state=42,n_jobs=-1)\n",
    "rfc.fit(X_train_cv,y_train_cv)"
   ]
  },
  {
   "cell_type": "code",
   "execution_count": 31,
   "metadata": {},
   "outputs": [
    {
     "name": "stdout",
     "output_type": "stream",
     "text": [
      "Accuracy :  100.0\n",
      "Recall :  99.75\n",
      "Precision :  100.0\n"
     ]
    }
   ],
   "source": [
    "#Predicting on train set\n",
    "y_train_pred = rfc.predict(X_train_cv)\n",
    "print(\"Accuracy : \", round(100*metrics.accuracy_score(y_train_cv, y_train_pred),2))\n",
    "print(\"Recall : \", round(100*metrics.recall_score(y_train_cv, y_train_pred),2))\n",
    "print(\"Precision : \", round(100*metrics.precision_score(y_train_cv, y_train_pred),2))"
   ]
  },
  {
   "cell_type": "code",
   "execution_count": 32,
   "metadata": {},
   "outputs": [
    {
     "name": "stdout",
     "output_type": "stream",
     "text": [
      "Accuracy :  99.96\n",
      "Recall :  78.57\n",
      "Precision :  95.06\n"
     ]
    }
   ],
   "source": [
    "#Predicting on test set\n",
    "y_test_pred = rfc.predict(X_test_cv)\n",
    "print(\"Accuracy : \", round(100*metrics.accuracy_score(y_test_cv, y_test_pred),2))\n",
    "print(\"Recall : \", round(100*metrics.recall_score(y_test_cv, y_test_pred),2))\n",
    "print(\"Precision : \", round(100*metrics.precision_score(y_test_cv, y_test_pred),2))"
   ]
  },
  {
   "cell_type": "code",
   "execution_count": 33,
   "metadata": {},
   "outputs": [
    {
     "name": "stdout",
     "output_type": "stream",
     "text": [
      "Fitting 5 folds for each of 10 candidates, totalling 50 fits\n"
     ]
    },
    {
     "data": {
      "text/plain": [
       "RandomizedSearchCV(cv=StratifiedKFold(n_splits=5, random_state=1, shuffle=True),\n",
       "                   estimator=RandomForestClassifier(n_jobs=-1, random_state=42),\n",
       "                   n_jobs=-1,\n",
       "                   param_distributions={'max_depth': [10, 30, 50],\n",
       "                                        'max_features': ['auto', 'sqrt'],\n",
       "                                        'min_samples_leaf': [1, 5, 10],\n",
       "                                        'min_samples_split': [2, 5, 10],\n",
       "                                        'n_estimators': [50, 100]},\n",
       "                   scoring='recall', verbose=1)"
      ]
     },
     "execution_count": 33,
     "metadata": {},
     "output_type": "execute_result"
    }
   ],
   "source": [
    "# Hyperparameter Tuning\n",
    "from sklearn.model_selection import RandomizedSearchCV\n",
    "# Parameter grid\n",
    "params = {'max_depth': [10,30,50],\n",
    "         'min_samples_leaf': [1,5,10],\n",
    "          'min_samples_split': [2, 5, 10],\n",
    "          'max_features': ['auto','sqrt'],\n",
    "          'n_estimators': [50,100]\n",
    "         }\n",
    "\n",
    "# Specify model\n",
    "rfc = RandomForestClassifier(random_state=42, n_jobs=-1)\n",
    "\n",
    "# Create random search object\n",
    "random = RandomizedSearchCV(estimator=rfc,\n",
    "                         param_distributions = params,\n",
    "                         scoring = 'recall',\n",
    "                         cv = skf,\n",
    "                         verbose=1,n_jobs=-1)\n",
    "\n",
    "# Fit on data\n",
    "random.fit(X_train_cv, y_train_cv)"
   ]
  },
  {
   "cell_type": "code",
   "execution_count": 34,
   "metadata": {},
   "outputs": [
    {
     "name": "stdout",
     "output_type": "stream",
     "text": [
      "{'n_estimators': 100, 'min_samples_split': 2, 'min_samples_leaf': 1, 'max_features': 'auto', 'max_depth': 50}\n",
      "0.7893865628042843\n",
      "RandomForestClassifier(max_depth=50, n_jobs=-1, random_state=42)\n"
     ]
    }
   ],
   "source": [
    "print(random.best_params_)\n",
    "print(random.best_score_)\n",
    "print(random.best_estimator_)"
   ]
  },
  {
   "cell_type": "code",
   "execution_count": 35,
   "metadata": {},
   "outputs": [
    {
     "name": "stdout",
     "output_type": "stream",
     "text": [
      "Accuracy :  100.0\n",
      "Recall :  97.21\n",
      "Precision :  100.0\n"
     ]
    }
   ],
   "source": [
    "#Fitting Random Forest with best parameters on train set\n",
    "rfc = RandomForestClassifier(min_samples_split=2, min_samples_leaf=1, max_depth=20, max_features='sqrt',\n",
    "                             n_jobs=-1, random_state=42)\n",
    "rfccv = rfc.fit(X_train_cv, y_train_cv)\n",
    "#Predicting on train set\n",
    "y_train_pred = rfccv.predict(X_train_cv)\n",
    "print(\"Accuracy : \", round(100*metrics.accuracy_score(y_train_cv, y_train_pred),2))\n",
    "print(\"Recall : \", round(100*metrics.recall_score(y_train_cv, y_train_pred),2))\n",
    "print(\"Precision : \", round(100*metrics.precision_score(y_train_cv, y_train_pred),2))"
   ]
  },
  {
   "cell_type": "code",
   "execution_count": 36,
   "metadata": {},
   "outputs": [
    {
     "name": "stdout",
     "output_type": "stream",
     "text": [
      "Accuracy :  99.96\n",
      "Recall :  79.59\n",
      "Precision :  95.12\n"
     ]
    }
   ],
   "source": [
    "#Predicting on test set\n",
    "y_test_pred = rfccv.predict(X_test_cv)\n",
    "print(\"Accuracy : \", round(100*metrics.accuracy_score(y_test_cv, y_test_pred),2))\n",
    "print(\"Recall : \", round(100*metrics.recall_score(y_test_cv, y_test_pred),2))\n",
    "print(\"Precision : \", round(100*metrics.precision_score(y_test_cv, y_test_pred),2))"
   ]
  },
  {
   "cell_type": "markdown",
   "metadata": {},
   "source": [
    "## XGBOOST"
   ]
  },
  {
   "cell_type": "code",
   "execution_count": 37,
   "metadata": {},
   "outputs": [],
   "source": [
    "import xgboost as xgb\n",
    "from xgboost import XGBClassifier\n",
    "from xgboost import plot_importance"
   ]
  },
  {
   "cell_type": "code",
   "execution_count": 38,
   "metadata": {},
   "outputs": [
    {
     "data": {
      "text/plain": [
       "XGBClassifier(base_score=0.5, booster='gbtree', colsample_bylevel=1,\n",
       "              colsample_bynode=1, colsample_bytree=1, gamma=0, gpu_id=-1,\n",
       "              importance_type='gain', interaction_constraints='',\n",
       "              learning_rate=0.300000012, max_delta_step=0, max_depth=6,\n",
       "              min_child_weight=1, missing=nan, monotone_constraints='()',\n",
       "              n_estimators=100, n_jobs=-1, num_parallel_tree=1, random_state=42,\n",
       "              reg_alpha=0, reg_lambda=1, scale_pos_weight=1, subsample=1,\n",
       "              tree_method='exact', validate_parameters=1, verbosity=None)"
      ]
     },
     "execution_count": 38,
     "metadata": {},
     "output_type": "execute_result"
    }
   ],
   "source": [
    "# fit model on training data with default hyperparameters\n",
    "xgb = XGBClassifier(random_state=42, n_jobs=-1)\n",
    "xgb.fit(X_train_cv, y_train_cv)"
   ]
  },
  {
   "cell_type": "code",
   "execution_count": 39,
   "metadata": {},
   "outputs": [
    {
     "name": "stdout",
     "output_type": "stream",
     "text": [
      "Accuracy :  100.0\n",
      "Recall :  100.0\n",
      "Precision :  100.0\n"
     ]
    }
   ],
   "source": [
    "#Predicting on train set\n",
    "y_train_pred = xgb.predict(X_train_cv)\n",
    "print(\"Accuracy : \", round(100*metrics.accuracy_score(y_train_cv, y_train_pred),2))\n",
    "print(\"Recall : \", round(100*metrics.recall_score(y_train_cv, y_train_pred),2))\n",
    "print(\"Precision : \", round(100*metrics.precision_score(y_train_cv, y_train_pred),2))"
   ]
  },
  {
   "cell_type": "code",
   "execution_count": 40,
   "metadata": {},
   "outputs": [
    {
     "name": "stdout",
     "output_type": "stream",
     "text": [
      "Accuracy :  99.95\n",
      "Recall :  75.51\n",
      "Precision :  93.67\n"
     ]
    }
   ],
   "source": [
    "#Predicting on test set\n",
    "y_test_pred = xgb.predict(X_test_cv)\n",
    "print(\"Accuracy : \", round(100*metrics.accuracy_score(y_test_cv, y_test_pred),2))\n",
    "print(\"Recall : \", round(100*metrics.recall_score(y_test_cv, y_test_pred),2))\n",
    "print(\"Precision : \", round(100*metrics.precision_score(y_test_cv, y_test_pred),2))"
   ]
  },
  {
   "cell_type": "code",
   "execution_count": 41,
   "metadata": {},
   "outputs": [
    {
     "name": "stdout",
     "output_type": "stream",
     "text": [
      "Fitting 5 folds for each of 20 candidates, totalling 100 fits\n"
     ]
    },
    {
     "data": {
      "text/plain": [
       "RandomizedSearchCV(cv=StratifiedKFold(n_splits=5, random_state=1, shuffle=True),\n",
       "                   estimator=XGBClassifier(base_score=None, booster=None,\n",
       "                                           colsample_bylevel=None,\n",
       "                                           colsample_bynode=None,\n",
       "                                           colsample_bytree=None, gamma=None,\n",
       "                                           gpu_id=None, importance_type='gain',\n",
       "                                           interaction_constraints=None,\n",
       "                                           learning_rate=None,\n",
       "                                           max_delta_step=None, max_depth=None,\n",
       "                                           min_child_weight=None, m...\n",
       "                                           num_parallel_tree=None,\n",
       "                                           random_state=42, reg_alpha=None,\n",
       "                                           reg_lambda=None,\n",
       "                                           scale_pos_weight=None,\n",
       "                                           subsample=None, tree_method=None,\n",
       "                                           validate_parameters=None,\n",
       "                                           verbosity=None),\n",
       "                   n_iter=20, n_jobs=-1,\n",
       "                   param_distributions={'gamma': [0, 0.1, 0.3],\n",
       "                                        'learning_rate': [0.1, 0.3, 0.5],\n",
       "                                        'max_depth': [2, 6, 10],\n",
       "                                        'min_child_weight': [1, 3, 5],\n",
       "                                        'subsample': [0.5, 0.7, 0.9]},\n",
       "                   scoring='recall', verbose=1)"
      ]
     },
     "execution_count": 41,
     "metadata": {},
     "output_type": "execute_result"
    }
   ],
   "source": [
    "# Hyperparameter Tuning\n",
    "from sklearn.model_selection import RandomizedSearchCV\n",
    "# Parameter grid\n",
    "params = {\n",
    "    'learning_rate': [0.1,0.3,0.5],\n",
    "    'max_depth': [2,6,10],\n",
    "    'min_child_weight': [1,3,5],\n",
    "    'subsample': [0.5,0.7,0.9],\n",
    "    'gamma' : [0,0.1,0.3],\n",
    "         }\n",
    "         \n",
    "#specify model\n",
    "xgb = XGBClassifier(random_state=42, n_jobs=-1)\n",
    "#xgb.fit(X_train_pca, y_train)\n",
    "\n",
    "# Create random search object\n",
    "random = RandomizedSearchCV(estimator=xgb,\n",
    "                         param_distributions = params,\n",
    "                         scoring = 'recall',\n",
    "                         cv = skf, n_iter=20,\n",
    "                         verbose=1,n_jobs=-1)\n",
    "\n",
    "# Fit on data\n",
    "random.fit(X_train_cv, y_train_cv)"
   ]
  },
  {
   "cell_type": "code",
   "execution_count": 42,
   "metadata": {},
   "outputs": [
    {
     "name": "stdout",
     "output_type": "stream",
     "text": [
      "{'subsample': 0.9, 'min_child_weight': 1, 'max_depth': 10, 'learning_rate': 0.1, 'gamma': 0.3}\n",
      "0.8122362869198312\n",
      "XGBClassifier(base_score=0.5, booster='gbtree', colsample_bylevel=1,\n",
      "              colsample_bynode=1, colsample_bytree=1, gamma=0.3, gpu_id=-1,\n",
      "              importance_type='gain', interaction_constraints='',\n",
      "              learning_rate=0.1, max_delta_step=0, max_depth=10,\n",
      "              min_child_weight=1, missing=nan, monotone_constraints='()',\n",
      "              n_estimators=100, n_jobs=-1, num_parallel_tree=1, random_state=42,\n",
      "              reg_alpha=0, reg_lambda=1, scale_pos_weight=1, subsample=0.9,\n",
      "              tree_method='exact', validate_parameters=1, verbosity=None)\n"
     ]
    }
   ],
   "source": [
    "print(random.best_params_)\n",
    "print(random.best_score_)\n",
    "print(random.best_estimator_)"
   ]
  },
  {
   "cell_type": "code",
   "execution_count": 43,
   "metadata": {},
   "outputs": [
    {
     "data": {
      "text/plain": [
       "XGBClassifier(base_score=0.5, booster='gbtree', colsample_bylevel=1,\n",
       "              colsample_bynode=1, colsample_bytree=1, gamma=0, gpu_id=-1,\n",
       "              importance_type='gain', interaction_constraints='',\n",
       "              learning_rate=0.1, max_delta_step=0, max_depth=10,\n",
       "              min_child_weight=1, missing=nan, monotone_constraints='()',\n",
       "              n_estimators=100, n_jobs=-1, num_parallel_tree=1, random_state=42,\n",
       "              reg_alpha=0, reg_lambda=1, scale_pos_weight=1, subsample=0.7,\n",
       "              tree_method='exact', validate_parameters=1, verbosity=None)"
      ]
     },
     "execution_count": 43,
     "metadata": {},
     "output_type": "execute_result"
    }
   ],
   "source": [
    "# fit model on training data with tuned hyperparameters\n",
    "xgbcv = XGBClassifier(subsample= 0.7, n_estimators= 100, min_child_weight= 1, max_depth= 10, learning_rate= 0.1,\n",
    "                    gamma= 0, random_state=42, n_jobs=-1)\n",
    "\n",
    "xgbcv.fit(X_train_cv, y_train_cv)"
   ]
  },
  {
   "cell_type": "code",
   "execution_count": 44,
   "metadata": {},
   "outputs": [
    {
     "name": "stdout",
     "output_type": "stream",
     "text": [
      "Accuracy :  99.98\n",
      "Recall :  91.12\n",
      "Precision :  100.0\n"
     ]
    }
   ],
   "source": [
    "#Predicting on train set\n",
    "y_train_pred = xgbcv.predict(X_train_cv)\n",
    "print(\"Accuracy : \", round(100*metrics.accuracy_score(y_train_cv, y_train_pred),2))\n",
    "print(\"Recall : \", round(100*metrics.recall_score(y_train_cv, y_train_pred),2))\n",
    "print(\"Precision : \", round(100*metrics.precision_score(y_train_cv, y_train_pred),2))"
   ]
  },
  {
   "cell_type": "code",
   "execution_count": 45,
   "metadata": {},
   "outputs": [
    {
     "name": "stdout",
     "output_type": "stream",
     "text": [
      "Accuracy :  99.95\n",
      "Recall :  79.59\n",
      "Precision :  92.86\n"
     ]
    }
   ],
   "source": [
    "#Predicting on test set\n",
    "y_test_pred = xgbcv.predict(X_test_cv)\n",
    "print(\"Accuracy : \", round(100*metrics.accuracy_score(y_test_cv, y_test_pred),2))\n",
    "print(\"Recall : \", round(100*metrics.recall_score(y_test_cv, y_test_pred),2))\n",
    "print(\"Precision : \", round(100*metrics.precision_score(y_test_cv, y_test_pred),2))"
   ]
  },
  {
   "cell_type": "markdown",
   "metadata": {},
   "source": [
    "## KNN"
   ]
  },
  {
   "cell_type": "code",
   "execution_count": 46,
   "metadata": {},
   "outputs": [
    {
     "data": {
      "text/plain": [
       "KNeighborsClassifier(n_jobs=-1)"
      ]
     },
     "execution_count": 46,
     "metadata": {},
     "output_type": "execute_result"
    }
   ],
   "source": [
    "from sklearn.neighbors import KNeighborsClassifier\n",
    "# fit model on training data with default hyperparameters\n",
    "knn = KNeighborsClassifier(n_jobs=-1)\n",
    "knn.fit(X_train_cv,y_train_cv)"
   ]
  },
  {
   "cell_type": "code",
   "execution_count": 47,
   "metadata": {},
   "outputs": [
    {
     "name": "stdout",
     "output_type": "stream",
     "text": [
      "Accuracy :  99.84\n",
      "Recall :  10.41\n",
      "Precision :  97.62\n"
     ]
    }
   ],
   "source": [
    "#Predicting on train set\n",
    "y_train_pred = knn.predict(X_train_cv)\n",
    "print(\"Accuracy : \", round(100*metrics.accuracy_score(y_train_cv, y_train_pred),2))\n",
    "print(\"Recall : \", round(100*metrics.recall_score(y_train_cv, y_train_pred),2))\n",
    "print(\"Precision : \", round(100*metrics.precision_score(y_train_cv, y_train_pred),2))"
   ]
  },
  {
   "cell_type": "code",
   "execution_count": 48,
   "metadata": {},
   "outputs": [
    {
     "name": "stdout",
     "output_type": "stream",
     "text": [
      "Accuracy :  99.83\n",
      "Recall :  4.08\n",
      "Precision :  100.0\n"
     ]
    }
   ],
   "source": [
    "#Predicting on test set\n",
    "y_test_pred = knn.predict(X_test_cv)\n",
    "print(\"Accuracy : \", round(100*metrics.accuracy_score(y_test_cv, y_test_pred),2))\n",
    "print(\"Recall : \", round(100*metrics.recall_score(y_test_cv, y_test_pred),2))\n",
    "print(\"Precision : \", round(100*metrics.precision_score(y_test_cv, y_test_pred),2))"
   ]
  },
  {
   "cell_type": "markdown",
   "metadata": {},
   "source": [
    "## Decicion tree"
   ]
  },
  {
   "cell_type": "code",
   "execution_count": 49,
   "metadata": {},
   "outputs": [
    {
     "data": {
      "text/plain": [
       "DecisionTreeClassifier(max_depth=3, random_state=42)"
      ]
     },
     "execution_count": 49,
     "metadata": {},
     "output_type": "execute_result"
    }
   ],
   "source": [
    "from sklearn.tree import DecisionTreeClassifier\n",
    "dt= DecisionTreeClassifier(random_state=42, max_depth=3)\n",
    "dt.fit(X_train_cv, y_train_cv)"
   ]
  },
  {
   "cell_type": "code",
   "execution_count": 50,
   "metadata": {},
   "outputs": [
    {
     "name": "stdout",
     "output_type": "stream",
     "text": [
      "Accuracy :  99.94\n",
      "Recall :  72.59\n",
      "Precision :  88.27\n"
     ]
    }
   ],
   "source": [
    "#Predicting on train set\n",
    "y_train_pred = dt.predict(X_train_cv)\n",
    "print(\"Accuracy : \", round(100*metrics.accuracy_score(y_train_cv, y_train_pred),2))\n",
    "print(\"Recall : \", round(100*metrics.recall_score(y_train_cv, y_train_pred),2))\n",
    "print(\"Precision : \", round(100*metrics.precision_score(y_train_cv, y_train_pred),2))"
   ]
  },
  {
   "cell_type": "code",
   "execution_count": 51,
   "metadata": {},
   "outputs": [
    {
     "name": "stdout",
     "output_type": "stream",
     "text": [
      "Accuracy :  99.92\n",
      "Recall :  65.31\n",
      "Precision :  86.49\n"
     ]
    }
   ],
   "source": [
    "#Predicting on test set\n",
    "y_test_pred = dt.predict(X_test_cv)\n",
    "print(\"Accuracy : \", round(100*metrics.accuracy_score(y_test_cv, y_test_pred),2))\n",
    "print(\"Recall : \", round(100*metrics.recall_score(y_test_cv, y_test_pred),2))\n",
    "print(\"Precision : \", round(100*metrics.precision_score(y_test_cv, y_test_pred),2))"
   ]
  },
  {
   "cell_type": "code",
   "execution_count": 52,
   "metadata": {},
   "outputs": [
    {
     "name": "stdout",
     "output_type": "stream",
     "text": [
      "Fitting 5 folds for each of 20 candidates, totalling 100 fits\n"
     ]
    },
    {
     "data": {
      "text/plain": [
       "RandomizedSearchCV(cv=StratifiedKFold(n_splits=5, random_state=1, shuffle=True),\n",
       "                   estimator=DecisionTreeClassifier(random_state=42), n_iter=20,\n",
       "                   param_distributions={'criterion': ['gini', 'entropy'],\n",
       "                                        'max_depth': ['none', 3, 5],\n",
       "                                        'max_features': ['auto', 'sqrt'],\n",
       "                                        'min_samples_leaf': [1, 5, 9],\n",
       "                                        'min_samples_split': [1, 2, 4]},\n",
       "                   random_state=42, scoring='recall', verbose=1)"
      ]
     },
     "execution_count": 52,
     "metadata": {},
     "output_type": "execute_result"
    }
   ],
   "source": [
    "# Hyperparameter Tuning\n",
    "from sklearn.model_selection import RandomizedSearchCV\n",
    "# Parameter grid\n",
    "params = {'max_depth':['none',3,5],\n",
    "          'max_features': ['auto','sqrt'],\n",
    "          'criterion':['gini','entropy'],\n",
    "          'min_samples_leaf':[1,5,9],\n",
    "          'min_samples_split':[1,2,4]\n",
    "         }\n",
    "         \n",
    "#specify model\n",
    "dt =DecisionTreeClassifier(random_state=42)\n",
    "#xgb.fit(X_train_pca, y_train)\n",
    "\n",
    "# Create random search object\n",
    "random = RandomizedSearchCV(estimator=dt,\n",
    "                         param_distributions = params,\n",
    "                         scoring = 'recall',\n",
    "                         cv = skf, n_iter=20,\n",
    "                         verbose=1, random_state=42)\n",
    "\n",
    "# Fit on data\n",
    "random.fit(X_train_cv, y_train_cv)"
   ]
  },
  {
   "cell_type": "code",
   "execution_count": 53,
   "metadata": {},
   "outputs": [
    {
     "name": "stdout",
     "output_type": "stream",
     "text": [
      "{'min_samples_split': 4, 'min_samples_leaf': 5, 'max_features': 'auto', 'max_depth': 5, 'criterion': 'entropy'}\n",
      "0.6828302499188574\n",
      "DecisionTreeClassifier(criterion='entropy', max_depth=5, max_features='auto',\n",
      "                       min_samples_leaf=5, min_samples_split=4,\n",
      "                       random_state=42)\n"
     ]
    }
   ],
   "source": [
    "print(random.best_params_)\n",
    "print(random.best_score_)\n",
    "print(random.best_estimator_)"
   ]
  },
  {
   "cell_type": "code",
   "execution_count": 54,
   "metadata": {},
   "outputs": [
    {
     "data": {
      "text/plain": [
       "DecisionTreeClassifier(criterion='entropy', max_depth=20, max_features='auto',\n",
       "                       min_samples_leaf=5, min_samples_split=4,\n",
       "                       random_state=42)"
      ]
     },
     "execution_count": 54,
     "metadata": {},
     "output_type": "execute_result"
    }
   ],
   "source": [
    "# fit model on training data with tuned hyperparameters\n",
    "dtcv = DecisionTreeClassifier(criterion='entropy', max_depth=20, max_features='auto',\n",
    "                       min_samples_leaf=5, min_samples_split=4,\n",
    "                       random_state=42)\n",
    "dtcv.fit(X_train_cv, y_train_cv)"
   ]
  },
  {
   "cell_type": "code",
   "execution_count": 55,
   "metadata": {},
   "outputs": [
    {
     "name": "stdout",
     "output_type": "stream",
     "text": [
      "Accuracy :  99.96\n",
      "Recall :  82.74\n",
      "Precision :  95.6\n"
     ]
    }
   ],
   "source": [
    "#Predicting on train set\n",
    "y_train_pred = dtcv.predict(X_train_cv)\n",
    "print(\"Accuracy : \", round(100*metrics.accuracy_score(y_train_cv, y_train_pred),2))\n",
    "print(\"Recall : \", round(100*metrics.recall_score(y_train_cv, y_train_pred),2))\n",
    "print(\"Precision : \", round(100*metrics.precision_score(y_train_cv, y_train_pred),2))"
   ]
  },
  {
   "cell_type": "code",
   "execution_count": 56,
   "metadata": {},
   "outputs": [
    {
     "name": "stdout",
     "output_type": "stream",
     "text": [
      "Accuracy :  99.94\n",
      "Recall :  73.47\n",
      "Precision :  87.8\n"
     ]
    }
   ],
   "source": [
    "#Predicting on test set\n",
    "y_test_pred = dtcv.predict(X_test_cv)\n",
    "print(\"Accuracy : \", round(100*metrics.accuracy_score(y_test_cv, y_test_pred),2))\n",
    "print(\"Recall : \", round(100*metrics.recall_score(y_test_cv, y_test_pred),2))\n",
    "print(\"Precision : \", round(100*metrics.precision_score(y_test_cv, y_test_pred),2))"
   ]
  },
  {
   "cell_type": "markdown",
   "metadata": {},
   "source": [
    "## SVM"
   ]
  },
  {
   "cell_type": "code",
   "execution_count": 57,
   "metadata": {},
   "outputs": [
    {
     "data": {
      "text/plain": [
       "SVC(kernel='linear')"
      ]
     },
     "execution_count": 57,
     "metadata": {},
     "output_type": "execute_result"
    }
   ],
   "source": [
    "from sklearn import svm\n",
    "clf = svm.SVC(kernel='linear')\n",
    "clf.fit(X_train_cv, y_train_cv)"
   ]
  },
  {
   "cell_type": "code",
   "execution_count": 58,
   "metadata": {},
   "outputs": [
    {
     "name": "stdout",
     "output_type": "stream",
     "text": [
      "Accuracy :  99.86\n",
      "Recall :  34.52\n",
      "Precision :  69.04\n"
     ]
    }
   ],
   "source": [
    "#Predicting on train set\n",
    "y_train_pred = clf.predict(X_train_cv)\n",
    "print(\"Accuracy : \", round(100*metrics.accuracy_score(y_train_cv, y_train_pred),2))\n",
    "print(\"Recall : \", round(100*metrics.recall_score(y_train_cv, y_train_pred),2))\n",
    "print(\"Precision : \", round(100*metrics.precision_score(y_train_cv, y_train_pred),2))"
   ]
  },
  {
   "cell_type": "code",
   "execution_count": 59,
   "metadata": {},
   "outputs": [
    {
     "name": "stdout",
     "output_type": "stream",
     "text": [
      "Accuracy :  99.87\n",
      "Recall :  33.67\n",
      "Precision :  75.0\n"
     ]
    }
   ],
   "source": [
    "#Predicting on test set\n",
    "y_test_pred = clf.predict(X_test_cv)\n",
    "print(\"Accuracy : \", round(100*metrics.accuracy_score(y_test_cv, y_test_pred),2))\n",
    "print(\"Recall : \", round(100*metrics.recall_score(y_test_cv, y_test_pred),2))\n",
    "print(\"Precision : \", round(100*metrics.precision_score(y_test_cv, y_test_pred),2))"
   ]
  },
  {
   "cell_type": "markdown",
   "metadata": {},
   "source": [
    "#### Proceed with the model which shows the best result \n",
    "- Apply the best hyperparameter on the model\n",
    "- Predict on the test dataset"
   ]
  },
  {
   "cell_type": "code",
   "execution_count": 60,
   "metadata": {},
   "outputs": [
    {
     "name": "stdout",
     "output_type": "stream",
     "text": [
      "Accuracy :  99.94\n",
      "Recall :  75.35\n",
      "Precision :  89.92\n"
     ]
    }
   ],
   "source": [
    "#initialise the model with optimum hyperparameters\n",
    "clf = RandomForestClassifier(min_samples_split=2, min_samples_leaf=1, max_depth=20, max_features='sqrt',\n",
    "                             n_jobs=-1, random_state=42)\n",
    "clf.fit(X_train, y_train)\n",
    "#print the evaluation score on the X_test by choosing the best evaluation metric\n",
    "y_test_pred = clf.predict(X_test)\n",
    "print(\"Accuracy : \", round(100*metrics.accuracy_score(y_test, y_test_pred),2))\n",
    "print(\"Recall : \", round(100*metrics.recall_score(y_test, y_test_pred),2))\n",
    "print(\"Precision : \", round(100*metrics.precision_score(y_test, y_test_pred),2))"
   ]
  },
  {
   "cell_type": "markdown",
   "metadata": {},
   "source": [
    "### Print the important features of the best model to understand the dataset\n",
    "- This will not give much explanation on the already transformed dataset\n",
    "- But it will help us in understanding if the dataset is not PCA transformed"
   ]
  },
  {
   "cell_type": "code",
   "execution_count": 61,
   "metadata": {},
   "outputs": [
    {
     "name": "stdout",
     "output_type": "stream",
     "text": [
      "Top var = 18\n",
      "2nd Top var = 13\n",
      "3rd Top var = 15\n"
     ]
    },
    {
     "data": {
      "text/plain": [
       "<matplotlib.legend.Legend at 0x17300613e20>"
      ]
     },
     "execution_count": 61,
     "metadata": {},
     "output_type": "execute_result"
    },
    {
     "data": {
      "image/png": "[encoded data removed]",
      "text/plain": [
       "<Figure size 1440x1440 with 1 Axes>"
      ]
     },
     "metadata": {
      "needs_background": "light"
     },
     "output_type": "display_data"
    }
   ],
   "source": [
    "var_imp = []\n",
    "for i in clf.feature_importances_:\n",
    "    var_imp.append(i)\n",
    "print('Top var =', var_imp.index(np.sort(clf.feature_importances_)[-1])+1)\n",
    "print('2nd Top var =', var_imp.index(np.sort(clf.feature_importances_)[-2])+1)\n",
    "print('3rd Top var =', var_imp.index(np.sort(clf.feature_importances_)[-3])+1)\n",
    "\n",
    "# Variable on Index-16 and Index-13 seems to be the top 2 variables\n",
    "top_var_index = var_imp.index(np.sort(clf.feature_importances_)[-1])\n",
    "second_top_var_index = var_imp.index(np.sort(clf.feature_importances_)[-2])\n",
    "\n",
    "X_train_1 = X_train.to_numpy()[np.where(y_train==1.0)]\n",
    "X_train_0 = X_train.to_numpy()[np.where(y_train==0.0)]\n",
    "\n",
    "np.random.shuffle(X_train_0)\n",
    "\n",
    "import matplotlib.pyplot as plt\n",
    "%matplotlib inline\n",
    "plt.rcParams['figure.figsize'] = [20, 20]\n",
    "\n",
    "plt.scatter(X_train_1[:, top_var_index], X_train_1[:, second_top_var_index], label='Actual Class-1 Examples')\n",
    "plt.scatter(X_train_0[:X_train_1.shape[0], top_var_index], X_train_0[:X_train_1.shape[0], second_top_var_index],\n",
    "            label='Actual Class-0 Examples')\n",
    "plt.legend()"
   ]
  },
  {
   "cell_type": "markdown",
   "metadata": {},
   "source": [
    "## Model building with balancing Classes\n",
    "\n",
    "##### Perform class balancing with :\n",
    "- Random Oversampling\n",
    "- SMOTE\n",
    "- ADASYN"
   ]
  },
  {
   "cell_type": "markdown",
   "metadata": {},
   "source": [
    "## Model Building\n",
    "- Build different models on the balanced dataset and see the result"
   ]
  },
  {
   "cell_type": "code",
   "execution_count": 62,
   "metadata": {},
   "outputs": [],
   "source": [
    "# Logistic Regression\n",
    "from sklearn import linear_model #import the package"
   ]
  },
  {
   "cell_type": "markdown",
   "metadata": {},
   "source": [
    "#### perfom cross validation on the X_train & y_train to create:\n",
    "- X_train_cv\n",
    "- X_test_cv \n",
    "- y_train_cv\n",
    "- y_test_cv "
   ]
  },
  {
   "cell_type": "markdown",
   "metadata": {},
   "source": [
    "### Random Oversampling"
   ]
  },
  {
   "cell_type": "code",
   "execution_count": 63,
   "metadata": {},
   "outputs": [
    {
     "name": "stdout",
     "output_type": "stream",
     "text": [
      "0.7.0\n"
     ]
    }
   ],
   "source": [
    "# import the packages & check version number\n",
    "import imblearn\n",
    "print(imblearn.__version__)\n",
    "from imblearn import over_sampling"
   ]
  },
  {
   "cell_type": "code",
   "execution_count": 64,
   "metadata": {
    "scrolled": true
   },
   "outputs": [
    {
     "name": "stdout",
     "output_type": "stream",
     "text": [
      ">Train: 0=227452, 1=393, Test: 0=56863, 1=99\n",
      ">Train: 0=227452, 1=393, Test: 0=56863, 1=99\n",
      ">Train: 0=227452, 1=394, Test: 0=56863, 1=98\n",
      ">Train: 0=227452, 1=394, Test: 0=56863, 1=98\n",
      ">Train: 0=227452, 1=394, Test: 0=56863, 1=98\n"
     ]
    }
   ],
   "source": [
    "#perform cross validation & then balance classes on X_train_cv & y_train_cv using Random Oversampling\n",
    "from sklearn.model_selection import StratifiedKFold\n",
    "skf = StratifiedKFold(n_splits=5, shuffle=True, random_state=1)\n",
    "target = df.loc[:,'Class']\n",
    "for train_ix, test_ix in skf.split(df, target):\n",
    "    # select rows\n",
    "    X_train_cv, X_test_cv = X.iloc[train_ix], X.iloc[test_ix]\n",
    "    y_train_cv, y_test_cv = target.iloc[train_ix], target.iloc[test_ix]\n",
    "    # summarize train and test composition\n",
    "    train_0, train_1 = len(y_train_cv[y_train_cv==0]), len(y_train_cv[y_train_cv==1])\n",
    "    test_0, test_1 = len(y_test_cv[y_test_cv==0]), len(y_test_cv[y_test_cv==1])\n",
    "    print('>Train: 0=%d, 1=%d, Test: 0=%d, 1=%d' % (train_0, train_1, test_0, test_1))\n",
    "    \n",
    "from imblearn.over_sampling import RandomOverSampler\n",
    "ros = RandomOverSampler(random_state=42)\n",
    "X_train_cv_resampled, y_train_cv_resampled = ros.fit_resample(X_train_cv,y_train_cv)"
   ]
  },
  {
   "cell_type": "code",
   "execution_count": 65,
   "metadata": {},
   "outputs": [
    {
     "data": {
      "text/plain": [
       "1    227452\n",
       "0    227452\n",
       "Name: Class, dtype: int64"
      ]
     },
     "execution_count": 65,
     "metadata": {},
     "output_type": "execute_result"
    }
   ],
   "source": [
    "y_train_cv_resampled.value_counts()"
   ]
  },
  {
   "cell_type": "code",
   "execution_count": 66,
   "metadata": {},
   "outputs": [
    {
     "name": "stdout",
     "output_type": "stream",
     "text": [
      "Fitting 5 folds for each of 12 candidates, totalling 60 fits\n"
     ]
    },
    {
     "data": {
      "text/plain": [
       "RandomizedSearchCV(cv=StratifiedKFold(n_splits=5, random_state=1, shuffle=True),\n",
       "                   estimator=LogisticRegression(), n_iter=20, n_jobs=-1,\n",
       "                   param_distributions=[{'C': [10, 1.0, 0.1],\n",
       "                                         'penalty': ['l1', 'l2'],\n",
       "                                         'solver': ['liblinear', 'saga']}],\n",
       "                   scoring='recall', verbose=1)"
      ]
     },
     "execution_count": 66,
     "metadata": {},
     "output_type": "execute_result"
    }
   ],
   "source": [
    "#perform hyperparameter tuning\n",
    "from sklearn.model_selection import RandomizedSearchCV\n",
    "\n",
    "# Parameter grid\n",
    "params = [{'penalty' : ['l1', 'l2'],\n",
    "              'C' : [10, 1.0, 0.1,],\n",
    "              'solver' : ['liblinear', 'saga']}]\n",
    "\n",
    "#specify model\n",
    "logreg = LogisticRegression()\n",
    "\n",
    "# Create random search object\n",
    "logreg_cv = RandomizedSearchCV(estimator=logreg, n_iter=20,\n",
    "                         param_distributions = params, \n",
    "                        scoring = 'recall',\n",
    "                         cv = skf,\n",
    "                         verbose=1,\n",
    "                         n_jobs=-1)\n",
    "\n",
    "# Fit on data\n",
    "logreg_cv.fit(X_train_cv_resampled, y_train_cv_resampled)"
   ]
  },
  {
   "cell_type": "code",
   "execution_count": 67,
   "metadata": {},
   "outputs": [
    {
     "name": "stdout",
     "output_type": "stream",
     "text": [
      "{'solver': 'liblinear', 'penalty': 'l1', 'C': 1.0}\n",
      "0.9289784233976424\n",
      "LogisticRegression(penalty='l1', solver='liblinear')\n"
     ]
    }
   ],
   "source": [
    "print(logreg_cv.best_params_)\n",
    "print(logreg_cv.best_score_)\n",
    "print(logreg_cv.best_estimator_)"
   ]
  },
  {
   "cell_type": "code",
   "execution_count": 68,
   "metadata": {},
   "outputs": [
    {
     "data": {
      "text/plain": [
       "LogisticRegression(C=0.1, penalty='l1', solver='liblinear')"
      ]
     },
     "execution_count": 68,
     "metadata": {},
     "output_type": "execute_result"
    }
   ],
   "source": [
    "# fit model on training data with tuned hyperparameters\n",
    "tunedlogreg = LogisticRegression(C=0.1, penalty='l1', solver='liblinear')\n",
    "tunedlogreg.fit(X_train_cv_resampled, y_train_cv_resampled)"
   ]
  },
  {
   "cell_type": "code",
   "execution_count": 69,
   "metadata": {},
   "outputs": [
    {
     "name": "stdout",
     "output_type": "stream",
     "text": [
      "Accuracy :  95.27\n",
      "Recall :  92.85\n",
      "Precision :  97.57\n"
     ]
    }
   ],
   "source": [
    "#print the evaluation result by choosing a evaluation metric\n",
    "\n",
    "#Predicting on train set\n",
    "y_train_pred = tunedlogreg.predict(X_train_cv_resampled)\n",
    "print(\"Accuracy : \", round(100*metrics.accuracy_score(y_train_cv_resampled, y_train_pred),2))\n",
    "print(\"Recall : \", round(100*metrics.recall_score(y_train_cv_resampled, y_train_pred),2))\n",
    "print(\"Precision : \", round(100*metrics.precision_score(y_train_cv_resampled, y_train_pred),2))"
   ]
  },
  {
   "cell_type": "code",
   "execution_count": 70,
   "metadata": {},
   "outputs": [
    {
     "name": "stdout",
     "output_type": "stream",
     "text": [
      "Accuracy :  97.81\n",
      "Recall :  88.78\n",
      "Precision :  6.56\n"
     ]
    }
   ],
   "source": [
    "#Predicting on test set\n",
    "y_test_pred = tunedlogreg.predict(X_test_cv)\n",
    "print(\"Accuracy : \", round(100*metrics.accuracy_score(y_test_cv, y_test_pred),2))\n",
    "print(\"Recall : \", round(100*metrics.recall_score(y_test_cv, y_test_pred),2))\n",
    "print(\"Precision : \", round(100*metrics.precision_score(y_test_cv, y_test_pred),2))"
   ]
  },
  {
   "cell_type": "code",
   "execution_count": 71,
   "metadata": {},
   "outputs": [
    {
     "name": "stdout",
     "output_type": "stream",
     "text": [
      "{'solver': 'liblinear', 'penalty': 'l1', 'C': 1.0}\n"
     ]
    }
   ],
   "source": [
    "#print the optimum value of hyperparameters\n",
    "print(logreg_cv.best_params_)"
   ]
  },
  {
   "cell_type": "markdown",
   "metadata": {},
   "source": [
    "### Similarly explore other algorithms on balanced dataset by building models like:\n",
    "- KNN\n",
    "- SVM\n",
    "- Decision Tree\n",
    "- Random Forest\n",
    "- XGBoost"
   ]
  },
  {
   "cell_type": "markdown",
   "metadata": {},
   "source": [
    "## Random Forest"
   ]
  },
  {
   "cell_type": "code",
   "execution_count": 72,
   "metadata": {},
   "outputs": [
    {
     "name": "stdout",
     "output_type": "stream",
     "text": [
      "Fitting 5 folds for each of 10 candidates, totalling 50 fits\n"
     ]
    },
    {
     "data": {
      "text/plain": [
       "RandomizedSearchCV(cv=StratifiedKFold(n_splits=5, random_state=1, shuffle=True),\n",
       "                   estimator=RandomForestClassifier(n_jobs=-1, random_state=42),\n",
       "                   n_jobs=-1,\n",
       "                   param_distributions={'max_depth': [5, 10, 20],\n",
       "                                        'max_features': ['auto', 'sqrt'],\n",
       "                                        'min_samples_leaf': [1, 5, 10],\n",
       "                                        'min_samples_split': [2, 5, 10]},\n",
       "                   random_state=42, scoring='recall', verbose=1)"
      ]
     },
     "execution_count": 72,
     "metadata": {},
     "output_type": "execute_result"
    }
   ],
   "source": [
    "from sklearn.ensemble import RandomForestClassifier\n",
    "# Hyperparameter Tuning\n",
    "from sklearn.model_selection import RandomizedSearchCV\n",
    "# Parameter grid\n",
    "params = {'max_depth': [5,10,20],\n",
    "         'min_samples_leaf': [1,5,10],\n",
    "          'min_samples_split': [2, 5, 10],\n",
    "          'max_features': ['auto','sqrt'],\n",
    "         }\n",
    "\n",
    "# Specify model\n",
    "rfc = RandomForestClassifier(random_state=42, n_jobs=-1)\n",
    "\n",
    "# Create random search object\n",
    "random = RandomizedSearchCV(estimator=rfc,\n",
    "                         param_distributions = params,\n",
    "                         scoring = 'recall',\n",
    "                         cv = skf,\n",
    "                         verbose=1,\n",
    "                        n_jobs=-1, random_state=42)\n",
    "\n",
    "# Fit on data\n",
    "random.fit(X_train_cv_resampled, y_train_cv_resampled)"
   ]
  },
  {
   "cell_type": "code",
   "execution_count": 73,
   "metadata": {},
   "outputs": [
    {
     "name": "stdout",
     "output_type": "stream",
     "text": [
      "{'min_samples_split': 5, 'min_samples_leaf': 5, 'max_features': 'sqrt', 'max_depth': 20}\n",
      "1.0\n",
      "RandomForestClassifier(max_depth=20, max_features='sqrt', min_samples_leaf=5,\n",
      "                       min_samples_split=5, n_jobs=-1, random_state=42)\n"
     ]
    }
   ],
   "source": [
    "print(random.best_params_)\n",
    "print(random.best_score_)\n",
    "print(random.best_estimator_)"
   ]
  },
  {
   "cell_type": "code",
   "execution_count": 74,
   "metadata": {},
   "outputs": [
    {
     "data": {
      "text/plain": [
       "RandomForestClassifier(max_depth=20, max_features='sqrt', min_samples_leaf=5,\n",
       "                       min_samples_split=5, n_jobs=-1, random_state=42)"
      ]
     },
     "execution_count": 74,
     "metadata": {},
     "output_type": "execute_result"
    }
   ],
   "source": [
    "# fit model on training data with tuned hyperparameters\n",
    "tunedrfc = RandomForestClassifier(max_depth=20, max_features='sqrt', min_samples_leaf=5,\n",
    "                       min_samples_split=5, n_jobs=-1, random_state=42)\n",
    "tunedrfc.fit(X_train_cv_resampled, y_train_cv_resampled)"
   ]
  },
  {
   "cell_type": "code",
   "execution_count": 75,
   "metadata": {},
   "outputs": [
    {
     "name": "stdout",
     "output_type": "stream",
     "text": [
      "Accuracy :  99.99\n",
      "Recall :  100.0\n",
      "Precision :  99.99\n"
     ]
    }
   ],
   "source": [
    "#Predicting on train set\n",
    "y_train_pred = tunedrfc.predict(X_train_cv_resampled)\n",
    "print(\"Accuracy : \", round(100*metrics.accuracy_score(y_train_cv_resampled, y_train_pred),2))\n",
    "print(\"Recall : \", round(100*metrics.recall_score(y_train_cv_resampled, y_train_pred),2))\n",
    "print(\"Precision : \", round(100*metrics.precision_score(y_train_cv_resampled, y_train_pred),2))"
   ]
  },
  {
   "cell_type": "code",
   "execution_count": 76,
   "metadata": {},
   "outputs": [
    {
     "name": "stdout",
     "output_type": "stream",
     "text": [
      "Accuracy :  99.94\n",
      "Recall :  80.61\n",
      "Precision :  85.87\n"
     ]
    }
   ],
   "source": [
    "#Predicting on test set\n",
    "y_test_pred = tunedrfc.predict(X_test_cv)\n",
    "print(\"Accuracy : \", round(100*metrics.accuracy_score(y_test_cv, y_test_pred),2))\n",
    "print(\"Recall : \", round(100*metrics.recall_score(y_test_cv, y_test_pred),2))\n",
    "print(\"Precision : \", round(100*metrics.precision_score(y_test_cv, y_test_pred),2))"
   ]
  },
  {
   "cell_type": "markdown",
   "metadata": {},
   "source": [
    "## XGBOOST\n"
   ]
  },
  {
   "cell_type": "code",
   "execution_count": 77,
   "metadata": {},
   "outputs": [
    {
     "name": "stdout",
     "output_type": "stream",
     "text": [
      "Fitting 5 folds for each of 20 candidates, totalling 100 fits\n"
     ]
    },
    {
     "data": {
      "text/plain": [
       "RandomizedSearchCV(cv=StratifiedKFold(n_splits=5, random_state=1, shuffle=True),\n",
       "                   estimator=XGBClassifier(base_score=None, booster=None,\n",
       "                                           colsample_bylevel=None,\n",
       "                                           colsample_bynode=None,\n",
       "                                           colsample_bytree=None, gamma=None,\n",
       "                                           gpu_id=None, importance_type='gain',\n",
       "                                           interaction_constraints=None,\n",
       "                                           learning_rate=None,\n",
       "                                           max_delta_step=None, max_depth=None,\n",
       "                                           min_child_weight=None, m...\n",
       "                                           reg_lambda=None,\n",
       "                                           scale_pos_weight=None,\n",
       "                                           subsample=None, tree_method=None,\n",
       "                                           validate_parameters=None,\n",
       "                                           verbosity=None),\n",
       "                   n_iter=20, n_jobs=-1,\n",
       "                   param_distributions={'colsample_bytree': [0.8, 1, 1.1],\n",
       "                                        'gamma': [0, 0.1, 0.3],\n",
       "                                        'learning_rate': [0.05, 0.1, 0.15],\n",
       "                                        'max_depth': [5, 10, 15],\n",
       "                                        'min_child_weight': [1, 3, 5],\n",
       "                                        'subsample': [0.5, 0.7, 0.9]},\n",
       "                   random_state=42, scoring='recall', verbose=1)"
      ]
     },
     "execution_count": 77,
     "metadata": {},
     "output_type": "execute_result"
    }
   ],
   "source": [
    "from xgboost import XGBClassifier\n",
    "# Hyperparameter Tuning\n",
    "from sklearn.model_selection import RandomizedSearchCV\n",
    "# Parameter grid\n",
    "params = {\n",
    "    'learning_rate': [0.05,0.1,0.15],\n",
    "    'max_depth': [5,10,15],\n",
    "    'min_child_weight': [1,3,5],\n",
    "    'subsample': [0.5,0.7,0.9],\n",
    "    'gamma' : [0,0.1,0.3],\n",
    "    'colsample_bytree':[0.8,1,1.1]\n",
    "         }\n",
    "         \n",
    "#specify model\n",
    "xgb = XGBClassifier(random_state=42, n_jobs=-1)\n",
    "#xgb.fit(X_train_pca, y_train)\n",
    "\n",
    "# Create random search object\n",
    "random = RandomizedSearchCV(estimator=xgb,\n",
    "                         param_distributions = params,\n",
    "                         scoring = 'recall',\n",
    "                         cv = skf, n_iter=20,\n",
    "                         verbose=1,n_jobs=-1,\n",
    "                           random_state=42)\n",
    "\n",
    "# Fit on data\n",
    "random.fit(X_train_cv_resampled, y_train_cv_resampled)"
   ]
  },
  {
   "cell_type": "code",
   "execution_count": 78,
   "metadata": {},
   "outputs": [
    {
     "name": "stdout",
     "output_type": "stream",
     "text": [
      "{'subsample': 0.5, 'min_child_weight': 1, 'max_depth': 10, 'learning_rate': 0.15, 'gamma': 0.3, 'colsample_bytree': 1}\n",
      "1.0\n",
      "XGBClassifier(base_score=0.5, booster='gbtree', colsample_bylevel=1,\n",
      "              colsample_bynode=1, colsample_bytree=1, gamma=0.3, gpu_id=-1,\n",
      "              importance_type='gain', interaction_constraints='',\n",
      "              learning_rate=0.15, max_delta_step=0, max_depth=10,\n",
      "              min_child_weight=1, missing=nan, monotone_constraints='()',\n",
      "              n_estimators=100, n_jobs=-1, num_parallel_tree=1, random_state=42,\n",
      "              reg_alpha=0, reg_lambda=1, scale_pos_weight=1, subsample=0.5,\n",
      "              tree_method='exact', validate_parameters=1, verbosity=None)\n"
     ]
    }
   ],
   "source": [
    "print(random.best_params_)\n",
    "print(random.best_score_)\n",
    "print(random.best_estimator_)"
   ]
  },
  {
   "cell_type": "code",
   "execution_count": 79,
   "metadata": {},
   "outputs": [
    {
     "data": {
      "text/plain": [
       "XGBClassifier(base_score=0.5, booster='gbtree', colsample_bylevel=1,\n",
       "              colsample_bynode=1, colsample_bytree=0.5, gamma=1, gpu_id=-1,\n",
       "              importance_type='gain', interaction_constraints='',\n",
       "              learning_rate=0.1, max_delta_step=0, max_depth=2,\n",
       "              min_child_weight=8, missing=nan, monotone_constraints='()',\n",
       "              n_estimators=100, n_jobs=-1, num_parallel_tree=1, random_state=42,\n",
       "              reg_alpha=500, reg_lambda=1, scale_pos_weight=1, subsample=0.5,\n",
       "              tree_method='exact', validate_parameters=1, verbosity=None)"
      ]
     },
     "execution_count": 79,
     "metadata": {},
     "output_type": "execute_result"
    }
   ],
   "source": [
    "# fit model on training data with tuned hyperparameters\n",
    "tunedxgb = XGBClassifier(subsample= 0.5, min_child_weight= 8, max_depth= 2, learning_rate= 0.1,\n",
    "                    gamma= 1, random_state=42, n_jobs=-1, colsample_bytree= 0.5, reg_alpha=500)\n",
    "tunedxgb.fit(X_train_cv_resampled, y_train_cv_resampled)"
   ]
  },
  {
   "cell_type": "code",
   "execution_count": 80,
   "metadata": {},
   "outputs": [
    {
     "name": "stdout",
     "output_type": "stream",
     "text": [
      "Accuracy :  96.14\n",
      "Recall :  93.92\n",
      "Precision :  98.3\n"
     ]
    }
   ],
   "source": [
    "#Predicting on train set\n",
    "y_train_pred = tunedxgb.predict(X_train_cv_resampled)\n",
    "print(\"Accuracy : \", round(100*metrics.accuracy_score(y_train_cv_resampled, y_train_pred),2))\n",
    "print(\"Recall : \", round(100*metrics.recall_score(y_train_cv_resampled, y_train_pred),2))\n",
    "print(\"Precision : \", round(100*metrics.precision_score(y_train_cv_resampled, y_train_pred),2))"
   ]
  },
  {
   "cell_type": "code",
   "execution_count": 81,
   "metadata": {},
   "outputs": [
    {
     "name": "stdout",
     "output_type": "stream",
     "text": [
      "Accuracy :  98.38\n",
      "Recall :  86.73\n",
      "Precision :  8.53\n"
     ]
    }
   ],
   "source": [
    "#Predicting on test set\n",
    "y_test_pred = tunedxgb.predict(X_test_cv)\n",
    "print(\"Accuracy : \", round(100*metrics.accuracy_score(y_test_cv, y_test_pred),2))\n",
    "print(\"Recall : \", round(100*metrics.recall_score(y_test_cv, y_test_pred),2))\n",
    "print(\"Precision : \", round(100*metrics.precision_score(y_test_cv, y_test_pred),2))"
   ]
  },
  {
   "cell_type": "markdown",
   "metadata": {},
   "source": [
    "### Print the class distribution after applying SMOTE "
   ]
  },
  {
   "cell_type": "code",
   "execution_count": 82,
   "metadata": {},
   "outputs": [
    {
     "data": {
      "text/plain": [
       "<matplotlib.legend.Legend at 0x17300b3bf10>"
      ]
     },
     "execution_count": 82,
     "metadata": {},
     "output_type": "execute_result"
    },
    {
     "data": {
      "image/png": "[encoded data removed]",
      "text/plain": [
       "<Figure size 1440x1440 with 2 Axes>"
      ]
     },
     "metadata": {
      "needs_background": "light"
     },
     "output_type": "display_data"
    }
   ],
   "source": [
    "from imblearn.over_sampling import SMOTE\n",
    "sm = SMOTE(random_state=0)\n",
    "X_train_smote, y_train_smote = sm.fit_resample(X_train, y_train)\n",
    "# Artificial minority samples and corresponding minority labels from SMOTE are appended\n",
    "# below X_train and y_train respectively\n",
    "# So to exclusively get the artificial minority samples from SMOTE, we do\n",
    "X_train_smote_1 = X_train_smote[X_train.shape[0]:]\n",
    "X_train_1 = X_train.to_numpy()[np.where(y_train==1.0)]\n",
    "X_train_0 = X_train.to_numpy()[np.where(y_train==0.0)]\n",
    "\n",
    "plt.rcParams['figure.figsize'] = [20, 20]\n",
    "fig = plt.figure()\n",
    "\n",
    "plt.subplot(3, 1, 1)\n",
    "plt.scatter(X_train_1[:, 0], X_train_1[:, 1], label='Actual Class-1 Examples')\n",
    "plt.legend()\n",
    "\n",
    "# plt.subplot(3, 1, 2)\n",
    "# plt.scatter(X_train_1[:, 0], X_train_1[:, 1], label='Actual Class-1 Examples')\n",
    "# plt.scatter(X_train_smote_1[:X_train_1.shape[0], 0], X_train_smote_1[:X_train_1.shape[0], 1],label='Artificial SMOTE Class-1 Examples')\n",
    "# plt.legend()\n",
    "\n",
    "plt.subplot(3, 1, 3)\n",
    "plt.scatter(X_train_1[:, 0], X_train_1[:, 1], label='Actual Class-1 Examples')\n",
    "plt.scatter(X_train_0[:X_train_1.shape[0], 0], X_train_0[:X_train_1.shape[0], 1], label='Actual Class-0 Examples')\n",
    "plt.legend()"
   ]
  },
  {
   "cell_type": "code",
   "execution_count": 83,
   "metadata": {},
   "outputs": [
    {
     "name": "stdout",
     "output_type": "stream",
     "text": [
      ">Train: 0=227452, 1=393, Test: 0=56863, 1=99\n",
      ">Train: 0=227452, 1=393, Test: 0=56863, 1=99\n",
      ">Train: 0=227452, 1=394, Test: 0=56863, 1=98\n",
      ">Train: 0=227452, 1=394, Test: 0=56863, 1=98\n",
      ">Train: 0=227452, 1=394, Test: 0=56863, 1=98\n"
     ]
    }
   ],
   "source": [
    "#perform cross validation & then balance classes on X_train_cv & y_train_cv using SMOTE\n",
    "from sklearn.model_selection import StratifiedKFold\n",
    "skf = StratifiedKFold(n_splits=5, shuffle=True, random_state=1)\n",
    "target = df.loc[:,'Class']\n",
    "for train_ix, test_ix in skf.split(df, target):\n",
    "    # select rows\n",
    "    X_train_cv, X_test_cv = X.iloc[train_ix], X.iloc[test_ix]\n",
    "    y_train_cv, y_test_cv = target.iloc[train_ix], target.iloc[test_ix]\n",
    "    # summarize train and test composition\n",
    "    train_0, train_1 = len(y_train_cv[y_train_cv==0]), len(y_train_cv[y_train_cv==1])\n",
    "    test_0, test_1 = len(y_test_cv[y_test_cv==0]), len(y_test_cv[y_test_cv==1])\n",
    "    print('>Train: 0=%d, 1=%d, Test: 0=%d, 1=%d' % (train_0, train_1, test_0, test_1))\n",
    "    \n",
    "from imblearn.over_sampling import SMOTE\n",
    "sm = SMOTE(random_state=0)\n",
    "X_train_cv_resampled, y_train_cv_resampled = sm.fit_resample(X_train_cv,y_train_cv)"
   ]
  },
  {
   "cell_type": "markdown",
   "metadata": {},
   "source": [
    "## Logistic Regression"
   ]
  },
  {
   "cell_type": "code",
   "execution_count": 84,
   "metadata": {},
   "outputs": [
    {
     "name": "stdout",
     "output_type": "stream",
     "text": [
      "Fitting 5 folds for each of 12 candidates, totalling 60 fits\n"
     ]
    },
    {
     "data": {
      "text/plain": [
       "RandomizedSearchCV(cv=StratifiedKFold(n_splits=5, random_state=1, shuffle=True),\n",
       "                   estimator=LogisticRegression(), n_iter=20, n_jobs=-1,\n",
       "                   param_distributions=[{'C': [10, 1.0, 0.1],\n",
       "                                         'penalty': ['l1', 'l2'],\n",
       "                                         'solver': ['liblinear', 'saga']}],\n",
       "                   scoring='recall', verbose=1)"
      ]
     },
     "execution_count": 84,
     "metadata": {},
     "output_type": "execute_result"
    }
   ],
   "source": [
    "#perform hyperparameter tuning\n",
    "from sklearn.model_selection import RandomizedSearchCV\n",
    "\n",
    "# Parameter grid\n",
    "params = [{'penalty' : ['l1', 'l2'],\n",
    "              'C' : [10, 1.0, 0.1,],\n",
    "              'solver' : ['liblinear', 'saga']}]\n",
    "\n",
    "#specify model\n",
    "logreg = LogisticRegression()\n",
    "\n",
    "# Create random search object\n",
    "logreg_cv = RandomizedSearchCV(estimator=logreg, n_iter=20,\n",
    "                         param_distributions = params, \n",
    "                        scoring = 'recall',\n",
    "                         cv = skf,\n",
    "                         verbose=1,\n",
    "                         n_jobs=-1)\n",
    "\n",
    "# Fit on data\n",
    "logreg_cv.fit(X_train_cv_resampled, y_train_cv_resampled)"
   ]
  },
  {
   "cell_type": "code",
   "execution_count": 85,
   "metadata": {},
   "outputs": [
    {
     "name": "stdout",
     "output_type": "stream",
     "text": [
      "{'solver': 'liblinear', 'penalty': 'l1', 'C': 0.1}\n",
      "0.9679888507390254\n",
      "LogisticRegression(C=0.1, penalty='l1', solver='liblinear')\n"
     ]
    }
   ],
   "source": [
    "print(logreg_cv.best_params_)\n",
    "print(logreg_cv.best_score_)\n",
    "print(logreg_cv.best_estimator_)"
   ]
  },
  {
   "cell_type": "code",
   "execution_count": 86,
   "metadata": {},
   "outputs": [
    {
     "data": {
      "text/plain": [
       "LogisticRegression(C=10, penalty='l1', solver='liblinear')"
      ]
     },
     "execution_count": 86,
     "metadata": {},
     "output_type": "execute_result"
    }
   ],
   "source": [
    "# fit model on training data with tuned hyperparameters\n",
    "tunedlogreg = LogisticRegression(C=10, penalty='l1', solver='liblinear')\n",
    "tunedlogreg.fit(X_train_cv_resampled, y_train_cv_resampled)"
   ]
  },
  {
   "cell_type": "code",
   "execution_count": 87,
   "metadata": {},
   "outputs": [
    {
     "name": "stdout",
     "output_type": "stream",
     "text": [
      "Accuracy :  97.9\n",
      "Recall :  96.77\n",
      "Precision :  99.01\n"
     ]
    }
   ],
   "source": [
    "#print the evaluation result by choosing a evaluation metric\n",
    "\n",
    "#Predicting on train set\n",
    "y_train_pred = tunedlogreg.predict(X_train_cv_resampled)\n",
    "print(\"Accuracy : \", round(100*metrics.accuracy_score(y_train_cv_resampled, y_train_pred),2))\n",
    "print(\"Recall : \", round(100*metrics.recall_score(y_train_cv_resampled, y_train_pred),2))\n",
    "print(\"Precision : \", round(100*metrics.precision_score(y_train_cv_resampled, y_train_pred),2))"
   ]
  },
  {
   "cell_type": "code",
   "execution_count": 88,
   "metadata": {},
   "outputs": [
    {
     "name": "stdout",
     "output_type": "stream",
     "text": [
      "Accuracy :  99.13\n",
      "Recall :  85.71\n",
      "Precision :  14.79\n"
     ]
    }
   ],
   "source": [
    "#Predicting on test set\n",
    "y_test_pred = tunedlogreg.predict(X_test_cv)\n",
    "print(\"Accuracy : \", round(100*metrics.accuracy_score(y_test_cv, y_test_pred),2))\n",
    "print(\"Recall : \", round(100*metrics.recall_score(y_test_cv, y_test_pred),2))\n",
    "print(\"Precision : \", round(100*metrics.precision_score(y_test_cv, y_test_pred),2))"
   ]
  },
  {
   "cell_type": "code",
   "execution_count": 89,
   "metadata": {},
   "outputs": [
    {
     "name": "stdout",
     "output_type": "stream",
     "text": [
      "{'solver': 'liblinear', 'penalty': 'l1', 'C': 0.1}\n"
     ]
    }
   ],
   "source": [
    "#print the optimum value of hyperparameters\n",
    "print(logreg_cv.best_params_)"
   ]
  },
  {
   "cell_type": "markdown",
   "metadata": {},
   "source": [
    "## Random Forest"
   ]
  },
  {
   "cell_type": "code",
   "execution_count": 90,
   "metadata": {},
   "outputs": [
    {
     "name": "stdout",
     "output_type": "stream",
     "text": [
      "Fitting 5 folds for each of 10 candidates, totalling 50 fits\n"
     ]
    },
    {
     "data": {
      "text/plain": [
       "RandomizedSearchCV(cv=StratifiedKFold(n_splits=5, random_state=1, shuffle=True),\n",
       "                   estimator=RandomForestClassifier(n_jobs=-1, random_state=42),\n",
       "                   n_jobs=-1,\n",
       "                   param_distributions={'max_depth': [5, 10, 20],\n",
       "                                        'max_features': ['auto', 'sqrt'],\n",
       "                                        'min_samples_leaf': [1, 5, 10],\n",
       "                                        'min_samples_split': [2, 5, 10]},\n",
       "                   random_state=42, scoring='recall', verbose=1)"
      ]
     },
     "execution_count": 90,
     "metadata": {},
     "output_type": "execute_result"
    }
   ],
   "source": [
    "from sklearn.ensemble import RandomForestClassifier\n",
    "# Hyperparameter Tuning\n",
    "from sklearn.model_selection import RandomizedSearchCV\n",
    "# Parameter grid\n",
    "params = {'max_depth': [5,10,20],\n",
    "         'min_samples_leaf': [1,5,10],\n",
    "          'min_samples_split': [2, 5, 10],\n",
    "          'max_features': ['auto','sqrt'],\n",
    "         }\n",
    "\n",
    "# Specify model\n",
    "rfc = RandomForestClassifier(random_state=42, n_jobs=-1)\n",
    "\n",
    "# Create random search object\n",
    "random = RandomizedSearchCV(estimator=rfc,\n",
    "                         param_distributions = params,\n",
    "                         scoring = 'recall',\n",
    "                         cv = skf,\n",
    "                         verbose=1,\n",
    "                        n_jobs=-1, random_state=42)\n",
    "\n",
    "# Fit on data\n",
    "random.fit(X_train_cv_resampled, y_train_cv_resampled)"
   ]
  },
  {
   "cell_type": "code",
   "execution_count": 91,
   "metadata": {},
   "outputs": [
    {
     "name": "stdout",
     "output_type": "stream",
     "text": [
      "{'min_samples_split': 5, 'min_samples_leaf': 5, 'max_features': 'sqrt', 'max_depth': 20}\n",
      "0.9999912070519443\n",
      "RandomForestClassifier(max_depth=20, max_features='sqrt', min_samples_leaf=5,\n",
      "                       min_samples_split=5, n_jobs=-1, random_state=42)\n"
     ]
    }
   ],
   "source": [
    "print(random.best_params_)\n",
    "print(random.best_score_)\n",
    "print(random.best_estimator_)"
   ]
  },
  {
   "cell_type": "code",
   "execution_count": 92,
   "metadata": {},
   "outputs": [
    {
     "data": {
      "text/plain": [
       "RandomForestClassifier(max_depth=20, max_features='sqrt', min_samples_leaf=5,\n",
       "                       min_samples_split=5, n_jobs=-1, random_state=42)"
      ]
     },
     "execution_count": 92,
     "metadata": {},
     "output_type": "execute_result"
    }
   ],
   "source": [
    "from sklearn.ensemble import RandomForestClassifier\n",
    "# fit model on training data with tuned hyperparameters\n",
    "tunedrfc = RandomForestClassifier(max_depth=20, max_features='sqrt', min_samples_leaf=5,\n",
    "                       min_samples_split=5, n_jobs=-1, random_state=42)\n",
    "tunedrfc.fit(X_train_cv_resampled, y_train_cv_resampled)"
   ]
  },
  {
   "cell_type": "code",
   "execution_count": 93,
   "metadata": {},
   "outputs": [
    {
     "name": "stdout",
     "output_type": "stream",
     "text": [
      "Accuracy :  99.99\n",
      "Recall :  100.0\n",
      "Precision :  99.98\n"
     ]
    }
   ],
   "source": [
    "#Predicting on train set\n",
    "y_train_pred = tunedrfc.predict(X_train_cv_resampled)\n",
    "print(\"Accuracy : \", round(100*metrics.accuracy_score(y_train_cv_resampled, y_train_pred),2))\n",
    "print(\"Recall : \", round(100*metrics.recall_score(y_train_cv_resampled, y_train_pred),2))\n",
    "print(\"Precision : \", round(100*metrics.precision_score(y_train_cv_resampled, y_train_pred),2))"
   ]
  },
  {
   "cell_type": "code",
   "execution_count": 94,
   "metadata": {},
   "outputs": [
    {
     "name": "stdout",
     "output_type": "stream",
     "text": [
      "Accuracy :  99.93\n",
      "Recall :  82.65\n",
      "Precision :  78.64\n"
     ]
    }
   ],
   "source": [
    "#Predicting on test set\n",
    "y_test_pred = tunedrfc.predict(X_test_cv)\n",
    "print(\"Accuracy : \", round(100*metrics.accuracy_score(y_test_cv, y_test_pred),2))\n",
    "print(\"Recall : \", round(100*metrics.recall_score(y_test_cv, y_test_pred),2))\n",
    "print(\"Precision : \", round(100*metrics.precision_score(y_test_cv, y_test_pred),2))"
   ]
  },
  {
   "cell_type": "markdown",
   "metadata": {},
   "source": [
    "## XGBOOST"
   ]
  },
  {
   "cell_type": "code",
   "execution_count": 95,
   "metadata": {},
   "outputs": [
    {
     "name": "stdout",
     "output_type": "stream",
     "text": [
      "Fitting 5 folds for each of 20 candidates, totalling 100 fits\n"
     ]
    },
    {
     "data": {
      "text/plain": [
       "RandomizedSearchCV(cv=StratifiedKFold(n_splits=5, random_state=1, shuffle=True),\n",
       "                   estimator=XGBClassifier(base_score=None, booster=None,\n",
       "                                           colsample_bylevel=None,\n",
       "                                           colsample_bynode=None,\n",
       "                                           colsample_bytree=None, gamma=None,\n",
       "                                           gpu_id=None, importance_type='gain',\n",
       "                                           interaction_constraints=None,\n",
       "                                           learning_rate=None,\n",
       "                                           max_delta_step=None, max_depth=None,\n",
       "                                           min_child_weight=None, m...\n",
       "                                           reg_lambda=None,\n",
       "                                           scale_pos_weight=None,\n",
       "                                           subsample=None, tree_method=None,\n",
       "                                           validate_parameters=None,\n",
       "                                           verbosity=None),\n",
       "                   n_iter=20, n_jobs=-1,\n",
       "                   param_distributions={'colsample_bytree': [0.8, 1, 1.1],\n",
       "                                        'gamma': [0, 0.1, 0.3],\n",
       "                                        'learning_rate': [0.05, 0.1, 0.15],\n",
       "                                        'max_depth': [5, 10, 15],\n",
       "                                        'min_child_weight': [1, 3, 5],\n",
       "                                        'subsample': [0.5, 0.7, 0.9]},\n",
       "                   random_state=42, scoring='recall', verbose=1)"
      ]
     },
     "execution_count": 95,
     "metadata": {},
     "output_type": "execute_result"
    }
   ],
   "source": [
    "from xgboost import XGBClassifier\n",
    "# Hyperparameter Tuning\n",
    "from sklearn.model_selection import RandomizedSearchCV\n",
    "# Parameter grid\n",
    "params = {\n",
    "    'learning_rate': [0.05,0.1,0.15],\n",
    "    'max_depth': [5,10,15],\n",
    "    'min_child_weight': [1,3,5],\n",
    "    'subsample': [0.5,0.7,0.9],\n",
    "    'gamma' : [0,0.1,0.3],\n",
    "    'colsample_bytree':[0.8,1,1.1]\n",
    "         }\n",
    "         \n",
    "#specify model\n",
    "xgb = XGBClassifier(random_state=42, n_jobs=-1)\n",
    "#xgb.fit(X_train_pca, y_train)\n",
    "\n",
    "# Create random search object\n",
    "random = RandomizedSearchCV(estimator=xgb,\n",
    "                         param_distributions = params,\n",
    "                         scoring = 'recall',\n",
    "                         cv = skf, n_iter=20,\n",
    "                         verbose=1,n_jobs=-1,\n",
    "                           random_state=42)\n",
    "\n",
    "# Fit on data\n",
    "random.fit(X_train_cv_resampled, y_train_cv_resampled)"
   ]
  },
  {
   "cell_type": "code",
   "execution_count": 96,
   "metadata": {},
   "outputs": [
    {
     "name": "stdout",
     "output_type": "stream",
     "text": [
      "{'subsample': 0.5, 'min_child_weight': 1, 'max_depth': 10, 'learning_rate': 0.15, 'gamma': 0.3, 'colsample_bytree': 1}\n",
      "0.9999956035259722\n",
      "XGBClassifier(base_score=0.5, booster='gbtree', colsample_bylevel=1,\n",
      "              colsample_bynode=1, colsample_bytree=1, gamma=0.3, gpu_id=-1,\n",
      "              importance_type='gain', interaction_constraints='',\n",
      "              learning_rate=0.15, max_delta_step=0, max_depth=10,\n",
      "              min_child_weight=1, missing=nan, monotone_constraints='()',\n",
      "              n_estimators=100, n_jobs=-1, num_parallel_tree=1, random_state=42,\n",
      "              reg_alpha=0, reg_lambda=1, scale_pos_weight=1, subsample=0.5,\n",
      "              tree_method='exact', validate_parameters=1, verbosity=None)\n"
     ]
    }
   ],
   "source": [
    "print(random.best_params_)\n",
    "print(random.best_score_)\n",
    "print(random.best_estimator_)"
   ]
  },
  {
   "cell_type": "code",
   "execution_count": 97,
   "metadata": {},
   "outputs": [
    {
     "data": {
      "text/plain": [
       "XGBClassifier(base_score=0.5, booster='gbtree', colsample_bylevel=1,\n",
       "              colsample_bynode=1, colsample_bytree=0.5, gamma=1, gpu_id=-1,\n",
       "              importance_type='gain', interaction_constraints='',\n",
       "              learning_rate=0.15, max_delta_step=0, max_depth=2,\n",
       "              min_child_weight=7, missing=nan, monotone_constraints='()',\n",
       "              n_estimators=100, n_jobs=-1, num_parallel_tree=1, random_state=42,\n",
       "              reg_alpha=500, reg_lambda=1, scale_pos_weight=1, subsample=0.5,\n",
       "              tree_method='exact', validate_parameters=1, verbosity=None)"
      ]
     },
     "execution_count": 97,
     "metadata": {},
     "output_type": "execute_result"
    }
   ],
   "source": [
    "# fit model on training data with tuned hyperparameters\n",
    "tunedxgb = XGBClassifier(subsample= 0.5, min_child_weight= 7, max_depth= 2, learning_rate= 0.15,\n",
    "                    gamma= 1, random_state=42, n_jobs=-1, colsample_bytree= 0.5, reg_alpha=500)\n",
    "tunedxgb.fit(X_train_cv_resampled, y_train_cv_resampled)"
   ]
  },
  {
   "cell_type": "code",
   "execution_count": 98,
   "metadata": {},
   "outputs": [
    {
     "name": "stdout",
     "output_type": "stream",
     "text": [
      "Accuracy :  97.87\n",
      "Recall :  96.87\n",
      "Precision :  98.84\n"
     ]
    }
   ],
   "source": [
    "#Predicting on train set\n",
    "y_train_pred = tunedxgb.predict(X_train_cv_resampled)\n",
    "print(\"Accuracy : \", round(100*metrics.accuracy_score(y_train_cv_resampled, y_train_pred),2))\n",
    "print(\"Recall : \", round(100*metrics.recall_score(y_train_cv_resampled, y_train_pred),2))\n",
    "print(\"Precision : \", round(100*metrics.precision_score(y_train_cv_resampled, y_train_pred),2))"
   ]
  },
  {
   "cell_type": "code",
   "execution_count": 99,
   "metadata": {},
   "outputs": [
    {
     "name": "stdout",
     "output_type": "stream",
     "text": [
      "Accuracy :  98.88\n",
      "Recall :  86.73\n",
      "Precision :  11.95\n"
     ]
    }
   ],
   "source": [
    "#Predicting on test set\n",
    "y_test_pred = tunedxgb.predict(X_test_cv)\n",
    "print(\"Accuracy : \", round(100*metrics.accuracy_score(y_test_cv, y_test_pred),2))\n",
    "print(\"Recall : \", round(100*metrics.recall_score(y_test_cv, y_test_pred),2))\n",
    "print(\"Precision : \", round(100*metrics.precision_score(y_test_cv, y_test_pred),2))"
   ]
  },
  {
   "cell_type": "markdown",
   "metadata": {},
   "source": [
    "##### Build models on other algorithms to see the better performing on SMOTE"
   ]
  },
  {
   "cell_type": "markdown",
   "metadata": {},
   "source": [
    "### Print the class distribution after applying ADASYN"
   ]
  },
  {
   "cell_type": "code",
   "execution_count": 100,
   "metadata": {},
   "outputs": [
    {
     "data": {
      "text/plain": [
       "<matplotlib.legend.Legend at 0x17300be94f0>"
      ]
     },
     "execution_count": 100,
     "metadata": {},
     "output_type": "execute_result"
    },
    {
     "data": {
      "image/png": "[encoded data removed]",
      "text/plain": [
       "<Figure size 1440x1440 with 2 Axes>"
      ]
     },
     "metadata": {
      "needs_background": "light"
     },
     "output_type": "display_data"
    }
   ],
   "source": [
    "from imblearn.over_sampling import ADASYN\n",
    "ada = ADASYN(random_state=0)\n",
    "X_train_adasyn, y_train_adasyn = ada.fit_resample(X_train, y_train)\n",
    "# Artificial minority samples and corresponding minority labels from ADASYN are appended\n",
    "# below X_train and y_train respectively\n",
    "# So to exclusively get the artificial minority samples from ADASYN, we do\n",
    "X_train_adasyn_1 = X_train_adasyn[X_train.shape[0]:]\n",
    "X_train_1 = X_train.to_numpy()[np.where(y_train==1.0)]\n",
    "X_train_0 = X_train.to_numpy()[np.where(y_train==0.0)]\n",
    "\n",
    "plt.rcParams['figure.figsize'] = [20, 20]\n",
    "fig = plt.figure()\n",
    "\n",
    "plt.subplot(3, 1, 1)\n",
    "plt.scatter(X_train_1[:, 0], X_train_1[:, 1], label='Actual Class-1 Examples')\n",
    "plt.legend()\n",
    "\n",
    "# plt.subplot(3, 1, 2)\n",
    "# plt.scatter(X_train_1[:, 0], X_train_1[:, 1], label='Actual Class-1 Examples')\n",
    "# plt.scatter(X_train_adasyn_1[:X_train_1.shape[0], 0], X_train_adasyn_1[:X_train_1.shape[0], 1],\n",
    "#             label='Artificial ADASYN Class-1 Examples')\n",
    "# plt.legend()\n",
    "\n",
    "plt.subplot(3, 1, 3)\n",
    "plt.scatter(X_train_1[:, 0], X_train_1[:, 1], label='Actual Class-1 Examples')\n",
    "plt.scatter(X_train_0[:X_train_1.shape[0], 0], X_train_0[:X_train_1.shape[0], 1], label='Actual Class-0 Examples')\n",
    "plt.legend()"
   ]
  },
  {
   "cell_type": "code",
   "execution_count": 22,
   "metadata": {},
   "outputs": [
    {
     "name": "stdout",
     "output_type": "stream",
     "text": [
      ">Train: 0=227452, 1=393, Test: 0=56863, 1=99\n",
      ">Train: 0=227452, 1=393, Test: 0=56863, 1=99\n",
      ">Train: 0=227452, 1=394, Test: 0=56863, 1=98\n",
      ">Train: 0=227452, 1=394, Test: 0=56863, 1=98\n",
      ">Train: 0=227452, 1=394, Test: 0=56863, 1=98\n"
     ]
    }
   ],
   "source": [
    "#perform cross validation & then balance classes on X_train_cv & y_train_cv using ADASYN\n",
    "from sklearn.model_selection import StratifiedKFold\n",
    "skf = StratifiedKFold(n_splits=5, shuffle=True, random_state=1)\n",
    "target = df.loc[:,'Class']\n",
    "for train_ix, test_ix in skf.split(df, target):\n",
    "    # select rows\n",
    "    X_train_cv, X_test_cv = X.iloc[train_ix], X.iloc[test_ix]\n",
    "    y_train_cv, y_test_cv = target.iloc[train_ix], target.iloc[test_ix]\n",
    "    # summarize train and test composition\n",
    "    train_0, train_1 = len(y_train_cv[y_train_cv==0]), len(y_train_cv[y_train_cv==1])\n",
    "    test_0, test_1 = len(y_test_cv[y_test_cv==0]), len(y_test_cv[y_test_cv==1])\n",
    "    print('>Train: 0=%d, 1=%d, Test: 0=%d, 1=%d' % (train_0, train_1, test_0, test_1))\n",
    "    \n",
    "from imblearn.over_sampling import ADASYN\n",
    "ad = ADASYN(random_state=0)\n",
    "X_train_cv_resampled, y_train_cv_resampled = ad.fit_resample(X_train_cv,y_train_cv)"
   ]
  },
  {
   "cell_type": "code",
   "execution_count": 102,
   "metadata": {},
   "outputs": [
    {
     "name": "stdout",
     "output_type": "stream",
     "text": [
      "Fitting 5 folds for each of 12 candidates, totalling 60 fits\n"
     ]
    },
    {
     "data": {
      "text/plain": [
       "RandomizedSearchCV(cv=StratifiedKFold(n_splits=5, random_state=1, shuffle=True),\n",
       "                   estimator=LogisticRegression(), n_iter=20, n_jobs=-1,\n",
       "                   param_distributions=[{'C': [10, 1.0, 0.1],\n",
       "                                         'penalty': ['l1', 'l2'],\n",
       "                                         'solver': ['liblinear', 'saga']}],\n",
       "                   scoring='recall', verbose=1)"
      ]
     },
     "execution_count": 102,
     "metadata": {},
     "output_type": "execute_result"
    }
   ],
   "source": [
    "#perform hyperparameter tuning\n",
    "from sklearn.model_selection import RandomizedSearchCV\n",
    "from sklearn.linear_model import LogisticRegression\n",
    "\n",
    "# Parameter grid\n",
    "params = [{'penalty' : ['l1', 'l2'],\n",
    "              'C' : [10, 1.0, 0.1,],\n",
    "              'solver' : ['liblinear', 'saga']}]\n",
    "\n",
    "#specify model\n",
    "logreg = LogisticRegression()\n",
    "\n",
    "# Create random search object\n",
    "logreg_cv = RandomizedSearchCV(estimator=logreg, n_iter=20,\n",
    "                         param_distributions = params, \n",
    "                        scoring = 'recall',\n",
    "                         cv = skf,\n",
    "                         verbose=1,\n",
    "                         n_jobs=-1)\n",
    "\n",
    "# Fit on data\n",
    "logreg_cv.fit(X_train_cv_resampled, y_train_cv_resampled)"
   ]
  },
  {
   "cell_type": "code",
   "execution_count": 103,
   "metadata": {},
   "outputs": [
    {
     "name": "stdout",
     "output_type": "stream",
     "text": [
      "{'solver': 'liblinear', 'penalty': 'l1', 'C': 1.0}\n",
      "0.9664383199054363\n",
      "LogisticRegression(penalty='l1', solver='liblinear')\n"
     ]
    }
   ],
   "source": [
    "print(logreg_cv.best_params_)\n",
    "print(logreg_cv.best_score_)\n",
    "print(logreg_cv.best_estimator_)"
   ]
  },
  {
   "cell_type": "code",
   "execution_count": 104,
   "metadata": {},
   "outputs": [
    {
     "data": {
      "text/plain": [
       "LogisticRegression(C=10, penalty='l1', solver='liblinear')"
      ]
     },
     "execution_count": 104,
     "metadata": {},
     "output_type": "execute_result"
    }
   ],
   "source": [
    "# fit model on training data with tuned hyperparameters\n",
    "tunedlogreg = LogisticRegression(C=10, penalty='l1', solver='liblinear')\n",
    "tunedlogreg.fit(X_train_cv_resampled, y_train_cv_resampled)"
   ]
  },
  {
   "cell_type": "code",
   "execution_count": 105,
   "metadata": {},
   "outputs": [
    {
     "name": "stdout",
     "output_type": "stream",
     "text": [
      "Accuracy :  97.78\n",
      "Recall :  96.6\n",
      "Precision :  98.94\n"
     ]
    }
   ],
   "source": [
    "#print the evaluation result by choosing a evaluation metric\n",
    "\n",
    "#Predicting on train set\n",
    "y_train_pred = tunedlogreg.predict(X_train_cv_resampled)\n",
    "print(\"Accuracy : \", round(100*metrics.accuracy_score(y_train_cv_resampled, y_train_pred),2))\n",
    "print(\"Recall : \", round(100*metrics.recall_score(y_train_cv_resampled, y_train_pred),2))\n",
    "print(\"Precision : \", round(100*metrics.precision_score(y_train_cv_resampled, y_train_pred),2))"
   ]
  },
  {
   "cell_type": "code",
   "execution_count": 106,
   "metadata": {},
   "outputs": [
    {
     "name": "stdout",
     "output_type": "stream",
     "text": [
      "Accuracy :  99.04\n",
      "Recall :  85.71\n",
      "Precision :  13.68\n"
     ]
    }
   ],
   "source": [
    "#Predicting on test set\n",
    "y_test_pred = tunedlogreg.predict(X_test_cv)\n",
    "print(\"Accuracy : \", round(100*metrics.accuracy_score(y_test_cv, y_test_pred),2))\n",
    "print(\"Recall : \", round(100*metrics.recall_score(y_test_cv, y_test_pred),2))\n",
    "print(\"Precision : \", round(100*metrics.precision_score(y_test_cv, y_test_pred),2))"
   ]
  },
  {
   "cell_type": "code",
   "execution_count": 107,
   "metadata": {},
   "outputs": [
    {
     "name": "stdout",
     "output_type": "stream",
     "text": [
      "{'solver': 'liblinear', 'penalty': 'l1', 'C': 1.0}\n"
     ]
    }
   ],
   "source": [
    "#print the optimum value of hyperparameters\n",
    "print(logreg_cv.best_params_)"
   ]
  },
  {
   "cell_type": "markdown",
   "metadata": {},
   "source": [
    "##### Build models on other algorithms to see the better performing on ADASYN"
   ]
  },
  {
   "cell_type": "markdown",
   "metadata": {},
   "source": [
    "## Random Forest"
   ]
  },
  {
   "cell_type": "code",
   "execution_count": 108,
   "metadata": {},
   "outputs": [
    {
     "name": "stdout",
     "output_type": "stream",
     "text": [
      "Fitting 5 folds for each of 10 candidates, totalling 50 fits\n"
     ]
    },
    {
     "data": {
      "text/plain": [
       "RandomizedSearchCV(cv=StratifiedKFold(n_splits=5, random_state=1, shuffle=True),\n",
       "                   estimator=RandomForestClassifier(n_jobs=-1, random_state=42),\n",
       "                   n_jobs=-1,\n",
       "                   param_distributions={'max_depth': [5, 10, 20],\n",
       "                                        'max_features': ['auto', 'sqrt'],\n",
       "                                        'min_samples_leaf': [1, 5, 10],\n",
       "                                        'min_samples_split': [2, 5, 10]},\n",
       "                   random_state=42, scoring='recall', verbose=1)"
      ]
     },
     "execution_count": 108,
     "metadata": {},
     "output_type": "execute_result"
    }
   ],
   "source": [
    "from sklearn.ensemble import RandomForestClassifier\n",
    "# Hyperparameter Tuning\n",
    "from sklearn.model_selection import RandomizedSearchCV\n",
    "# Parameter grid\n",
    "params = {'max_depth': [5,10,20],\n",
    "         'min_samples_leaf': [1,5,10],\n",
    "          'min_samples_split': [2, 5, 10],\n",
    "          'max_features': ['auto','sqrt'],\n",
    "         }\n",
    "\n",
    "# Specify model\n",
    "rfc = RandomForestClassifier(random_state=42, n_jobs=-1)\n",
    "\n",
    "# Create random search object\n",
    "random = RandomizedSearchCV(estimator=rfc,\n",
    "                         param_distributions = params,\n",
    "                         scoring = 'recall',\n",
    "                         cv = skf,\n",
    "                         verbose=1,\n",
    "                        n_jobs=-1, random_state=42)\n",
    "\n",
    "# Fit on data\n",
    "random.fit(X_train_cv_resampled, y_train_cv_resampled)"
   ]
  },
  {
   "cell_type": "code",
   "execution_count": 109,
   "metadata": {},
   "outputs": [
    {
     "name": "stdout",
     "output_type": "stream",
     "text": [
      "{'min_samples_split': 5, 'min_samples_leaf': 5, 'max_features': 'sqrt', 'max_depth': 20}\n",
      "0.9999912060853889\n",
      "RandomForestClassifier(max_depth=20, max_features='sqrt', min_samples_leaf=5,\n",
      "                       min_samples_split=5, n_jobs=-1, random_state=42)\n"
     ]
    }
   ],
   "source": [
    "print(random.best_params_)\n",
    "print(random.best_score_)\n",
    "print(random.best_estimator_)"
   ]
  },
  {
   "cell_type": "code",
   "execution_count": 110,
   "metadata": {},
   "outputs": [
    {
     "data": {
      "text/plain": [
       "RandomForestClassifier(max_depth=20, max_features='sqrt', min_samples_leaf=5,\n",
       "                       min_samples_split=5, n_jobs=-1, random_state=42)"
      ]
     },
     "execution_count": 110,
     "metadata": {},
     "output_type": "execute_result"
    }
   ],
   "source": [
    "# fit model on training data with tuned hyperparameters\n",
    "tunedrfc = RandomForestClassifier(max_depth=20, max_features='sqrt', min_samples_leaf=5,\n",
    "                       min_samples_split=5, n_jobs=-1, random_state=42)\n",
    "tunedrfc.fit(X_train_cv_resampled, y_train_cv_resampled)"
   ]
  },
  {
   "cell_type": "code",
   "execution_count": 111,
   "metadata": {},
   "outputs": [
    {
     "name": "stdout",
     "output_type": "stream",
     "text": [
      "Accuracy :  99.99\n",
      "Recall :  100.0\n",
      "Precision :  99.98\n"
     ]
    }
   ],
   "source": [
    "#Predicting on train set\n",
    "y_train_pred = tunedrfc.predict(X_train_cv_resampled)\n",
    "print(\"Accuracy : \", round(100*metrics.accuracy_score(y_train_cv_resampled, y_train_pred),2))\n",
    "print(\"Recall : \", round(100*metrics.recall_score(y_train_cv_resampled, y_train_pred),2))\n",
    "print(\"Precision : \", round(100*metrics.precision_score(y_train_cv_resampled, y_train_pred),2))"
   ]
  },
  {
   "cell_type": "code",
   "execution_count": 112,
   "metadata": {},
   "outputs": [
    {
     "name": "stdout",
     "output_type": "stream",
     "text": [
      "Accuracy :  99.93\n",
      "Recall :  82.65\n",
      "Precision :  77.14\n"
     ]
    }
   ],
   "source": [
    "#Predicting on test set\n",
    "y_test_pred = tunedrfc.predict(X_test_cv)\n",
    "print(\"Accuracy : \", round(100*metrics.accuracy_score(y_test_cv, y_test_pred),2))\n",
    "print(\"Recall : \", round(100*metrics.recall_score(y_test_cv, y_test_pred),2))\n",
    "print(\"Precision : \", round(100*metrics.precision_score(y_test_cv, y_test_pred),2))"
   ]
  },
  {
   "cell_type": "markdown",
   "metadata": {},
   "source": [
    "## XGBOOST"
   ]
  },
  {
   "cell_type": "code",
   "execution_count": 23,
   "metadata": {},
   "outputs": [
    {
     "name": "stdout",
     "output_type": "stream",
     "text": [
      "Fitting 5 folds for each of 10 candidates, totalling 50 fits\n"
     ]
    },
    {
     "data": {
      "text/plain": [
       "RandomizedSearchCV(cv=StratifiedKFold(n_splits=5, random_state=1, shuffle=True),\n",
       "                   estimator=XGBClassifier(base_score=None, booster=None,\n",
       "                                           colsample_bylevel=None,\n",
       "                                           colsample_bynode=None,\n",
       "                                           colsample_bytree=None, gamma=None,\n",
       "                                           gpu_id=None, importance_type='gain',\n",
       "                                           interaction_constraints=None,\n",
       "                                           learning_rate=None,\n",
       "                                           max_delta_step=None, max_depth=None,\n",
       "                                           min_child_weight=None, m...\n",
       "                                           n_estimators=100, n_jobs=-1,\n",
       "                                           num_parallel_tree=None,\n",
       "                                           random_state=42, reg_alpha=None,\n",
       "                                           reg_lambda=None,\n",
       "                                           scale_pos_weight=None,\n",
       "                                           subsample=None, tree_method=None,\n",
       "                                           validate_parameters=None,\n",
       "                                           verbosity=None),\n",
       "                   n_jobs=-1,\n",
       "                   param_distributions={'gamma': [0, 1],\n",
       "                                        'learning_rate': [0.1, 0.15],\n",
       "                                        'max_depth': [2, 5],\n",
       "                                        'min_child_weight': [3, 5],\n",
       "                                        'subsample': [0.5, 0.7]},\n",
       "                   random_state=42, scoring='recall', verbose=1)"
      ]
     },
     "execution_count": 23,
     "metadata": {},
     "output_type": "execute_result"
    }
   ],
   "source": [
    "from xgboost import XGBClassifier\n",
    "# Hyperparameter Tuning\n",
    "from sklearn.model_selection import RandomizedSearchCV\n",
    "# Parameter grid\n",
    "params = {\n",
    "    'learning_rate': [0.1,0.15],\n",
    "    'max_depth': [2,5],\n",
    "    'min_child_weight': [3,5],\n",
    "    'subsample': [0.5,0.7],\n",
    "    'gamma' : [0,1]\n",
    "         }\n",
    "         \n",
    "#specify model\n",
    "xgb = XGBClassifier(random_state=42, n_jobs=-1)\n",
    "#xgb.fit(X_train_pca, y_train)\n",
    "\n",
    "# Create random search object\n",
    "random = RandomizedSearchCV(estimator=xgb,\n",
    "                         param_distributions = params,\n",
    "                         scoring = 'recall',\n",
    "                         cv = skf,\n",
    "                         verbose=1,n_jobs=-1,\n",
    "                           random_state=42)\n",
    "\n",
    "# Fit on data\n",
    "random.fit(X_train_cv_resampled, y_train_cv_resampled)"
   ]
  },
  {
   "cell_type": "code",
   "execution_count": 24,
   "metadata": {},
   "outputs": [
    {
     "name": "stdout",
     "output_type": "stream",
     "text": [
      "{'subsample': 0.5, 'min_child_weight': 3, 'max_depth': 5, 'learning_rate': 0.15, 'gamma': 0}\n",
      "0.9998549019555416\n",
      "XGBClassifier(base_score=0.5, booster='gbtree', colsample_bylevel=1,\n",
      "              colsample_bynode=1, colsample_bytree=1, gamma=0, gpu_id=-1,\n",
      "              importance_type='gain', interaction_constraints='',\n",
      "              learning_rate=0.15, max_delta_step=0, max_depth=5,\n",
      "              min_child_weight=3, missing=nan, monotone_constraints='()',\n",
      "              n_estimators=100, n_jobs=-1, num_parallel_tree=1, random_state=42,\n",
      "              reg_alpha=0, reg_lambda=1, scale_pos_weight=1, subsample=0.5,\n",
      "              tree_method='exact', validate_parameters=1, verbosity=None)\n"
     ]
    }
   ],
   "source": [
    "print(random.best_params_)\n",
    "print(random.best_score_)\n",
    "print(random.best_estimator_)"
   ]
  },
  {
   "cell_type": "code",
   "execution_count": 25,
   "metadata": {},
   "outputs": [
    {
     "data": {
      "text/plain": [
       "XGBClassifier(base_score=0.5, booster='gbtree', colsample_bylevel=1,\n",
       "              colsample_bynode=1, colsample_bytree=0.5, gamma=100, gpu_id=-1,\n",
       "              importance_type='gain', interaction_constraints='',\n",
       "              learning_rate=0.06, max_delta_step=0, max_depth=2,\n",
       "              min_child_weight=7, missing=nan, monotone_constraints='()',\n",
       "              n_estimators=100, n_jobs=-1, num_parallel_tree=1, random_state=42,\n",
       "              reg_alpha=500, reg_lambda=1, scale_pos_weight=1, subsample=0.5,\n",
       "              tree_method='exact', validate_parameters=1, verbosity=None)"
      ]
     },
     "execution_count": 25,
     "metadata": {},
     "output_type": "execute_result"
    }
   ],
   "source": [
    "# fit model on training data with tuned hyperparameters\n",
    "tunedxgb = XGBClassifier(subsample= 0.5, min_child_weight= 7, max_depth= 2, learning_rate= 0.06,\n",
    "                    gamma= 100, random_state=42, n_jobs=-1,reg_alpha=500, colsample_bytree=0.5)\n",
    "tunedxgb.fit(X_train_cv_resampled, y_train_cv_resampled)"
   ]
  },
  {
   "cell_type": "code",
   "execution_count": 26,
   "metadata": {},
   "outputs": [
    {
     "name": "stdout",
     "output_type": "stream",
     "text": [
      "Accuracy :  97.09\n",
      "Recall :  95.57\n",
      "Precision :  98.56\n"
     ]
    }
   ],
   "source": [
    "#Predicting on train set\n",
    "y_train_pred = tunedxgb.predict(X_train_cv_resampled)\n",
    "print(\"Accuracy : \", round(100*metrics.accuracy_score(y_train_cv_resampled, y_train_pred),2))\n",
    "print(\"Recall : \", round(100*metrics.recall_score(y_train_cv_resampled, y_train_pred),2))\n",
    "print(\"Precision : \", round(100*metrics.precision_score(y_train_cv_resampled, y_train_pred),2))"
   ]
  },
  {
   "cell_type": "code",
   "execution_count": 27,
   "metadata": {},
   "outputs": [
    {
     "name": "stdout",
     "output_type": "stream",
     "text": [
      "Accuracy :  98.67\n",
      "Recall :  87.76\n",
      "Precision :  10.35\n"
     ]
    }
   ],
   "source": [
    "#Predicting on test set\n",
    "y_test_pred = tunedxgb.predict(X_test_cv)\n",
    "print(\"Accuracy : \", round(100*metrics.accuracy_score(y_test_cv, y_test_pred),2))\n",
    "print(\"Recall : \", round(100*metrics.recall_score(y_test_cv, y_test_pred),2))\n",
    "print(\"Precision : \", round(100*metrics.precision_score(y_test_cv, y_test_pred),2))"
   ]
  },
  {
   "cell_type": "markdown",
   "metadata": {},
   "source": [
    "## Using scale_pos_weight"
   ]
  },
  {
   "cell_type": "code",
   "execution_count": 28,
   "metadata": {},
   "outputs": [
    {
     "data": {
      "text/plain": [
       "XGBClassifier(base_score=0.5, booster='gbtree', colsample_bylevel=1,\n",
       "              colsample_bynode=1, colsample_bytree=0.5, gamma=1, gpu_id=-1,\n",
       "              importance_type='gain', interaction_constraints='',\n",
       "              learning_rate=0.06, max_delta_step=0, max_depth=2,\n",
       "              min_child_weight=8, missing=nan, monotone_constraints='()',\n",
       "              n_estimators=100, n_jobs=-1, num_parallel_tree=1, random_state=42,\n",
       "              reg_alpha=600, reg_lambda=1, scale_pos_weight=577.28934,\n",
       "              subsample=0.5, tree_method='exact', validate_parameters=1,\n",
       "              verbosity=None)"
      ]
     },
     "execution_count": 28,
     "metadata": {},
     "output_type": "execute_result"
    }
   ],
   "source": [
    "# fit model on training data with tuned hyperparameters\n",
    "xgb = XGBClassifier(subsample= 0.5, min_child_weight= 8, max_depth= 2, learning_rate= 0.06,\n",
    "                    gamma= 1, random_state=42, n_jobs=-1,reg_alpha=600, colsample_bytree=0.5, scale_pos_weight=577.28934)\n",
    "xgb.fit(X_train_cv, y_train_cv)"
   ]
  },
  {
   "cell_type": "code",
   "execution_count": 29,
   "metadata": {},
   "outputs": [
    {
     "name": "stdout",
     "output_type": "stream",
     "text": [
      "Accuracy :  98.35\n",
      "Recall :  92.13\n",
      "Precision :  8.87\n"
     ]
    }
   ],
   "source": [
    "#Predicting on train set\n",
    "y_train_pred = xgb.predict(X_train_cv)\n",
    "print(\"Accuracy : \", round(100*metrics.accuracy_score(y_train_cv, y_train_pred),2))\n",
    "print(\"Recall : \", round(100*metrics.recall_score(y_train_cv, y_train_pred),2))\n",
    "print(\"Precision : \", round(100*metrics.precision_score(y_train_cv, y_train_pred),2))"
   ]
  },
  {
   "cell_type": "code",
   "execution_count": 30,
   "metadata": {},
   "outputs": [
    {
     "name": "stdout",
     "output_type": "stream",
     "text": [
      "Accuracy :  98.36\n",
      "Recall :  88.78\n",
      "Precision :  8.62\n"
     ]
    }
   ],
   "source": [
    "#Predicting on test set\n",
    "y_test_pred = xgb.predict(X_test_cv)\n",
    "print(\"Accuracy : \", round(100*metrics.accuracy_score(y_test_cv, y_test_pred),2))\n",
    "print(\"Recall : \", round(100*metrics.recall_score(y_test_cv, y_test_pred),2))\n",
    "print(\"Precision : \", round(100*metrics.precision_score(y_test_cv, y_test_pred),2))"
   ]
  },
  {
   "cell_type": "markdown",
   "metadata": {},
   "source": [
    "### Select the oversampling method which shows the best result on a model\n",
    "- Apply the best hyperparameter on the model\n",
    "- Predict on the test dataset"
   ]
  },
  {
   "cell_type": "code",
   "execution_count": 31,
   "metadata": {},
   "outputs": [
    {
     "name": "stdout",
     "output_type": "stream",
     "text": [
      "Recall :  88.78\n"
     ]
    }
   ],
   "source": [
    "# perform the best oversampling method on X_train & y_train\n",
    "\n",
    "# Since scale_pos_weight in xgboost gives better recall than all the oversampling methods, not applying oversampling.\n",
    "\n",
    "#initialise the model with optimum hyperparameters\n",
    "clf = XGBClassifier(subsample= 0.5, min_child_weight= 8, max_depth= 2, learning_rate= 0.06,\n",
    "                    gamma= 1, random_state=42, n_jobs=-1,reg_alpha=600, colsample_bytree=0.5, scale_pos_weight=577.28934)\n",
    "# fit on the balanced dataset\n",
    "clf.fit(X_train_cv, y_train_cv) \n",
    "y_test_pred = xgb.predict(X_test_cv)\n",
    "\n",
    "#print the evaluation score on the X_test by choosing the best evaluation metric\n",
    "print(\"Recall : \", round(100*metrics.recall_score(y_test_cv, y_test_pred),2))"
   ]
  },
  {
   "cell_type": "markdown",
   "metadata": {},
   "source": [
    "### Print the important features of the best model to understand the dataset"
   ]
  },
  {
   "cell_type": "code",
   "execution_count": 32,
   "metadata": {},
   "outputs": [
    {
     "name": "stdout",
     "output_type": "stream",
     "text": [
      "Top var = 11\n",
      "2nd Top var = 15\n",
      "3rd Top var = 18\n"
     ]
    },
    {
     "data": {
      "text/plain": [
       "<matplotlib.legend.Legend at 0x26767976a00>"
      ]
     },
     "execution_count": 32,
     "metadata": {},
     "output_type": "execute_result"
    },
    {
     "data": {
      "image/png": "[encoded data removed]",
      "text/plain": [
       "<Figure size 1440x1440 with 1 Axes>"
      ]
     },
     "metadata": {
      "needs_background": "light"
     },
     "output_type": "display_data"
    }
   ],
   "source": [
    "var_imp = []\n",
    "for i in clf.feature_importances_:\n",
    "    var_imp.append(i)\n",
    "print('Top var =', var_imp.index(np.sort(clf.feature_importances_)[-1])+1)\n",
    "print('2nd Top var =', var_imp.index(np.sort(clf.feature_importances_)[-2])+1)\n",
    "print('3rd Top var =', var_imp.index(np.sort(clf.feature_importances_)[-3])+1)\n",
    "\n",
    "# Variable on Index-13 and Index-9 seems to be the top 2 variables\n",
    "top_var_index = var_imp.index(np.sort(clf.feature_importances_)[-1])\n",
    "second_top_var_index = var_imp.index(np.sort(clf.feature_importances_)[-2])\n",
    "\n",
    "X_train_1 = X_train.to_numpy()[np.where(y_train==1.0)]\n",
    "X_train_0 = X_train.to_numpy()[np.where(y_train==0.0)]\n",
    "\n",
    "np.random.shuffle(X_train_0)\n",
    "\n",
    "import matplotlib.pyplot as plt\n",
    "%matplotlib inline\n",
    "plt.rcParams['figure.figsize'] = [20, 20]\n",
    "\n",
    "plt.scatter(X_train_1[:, top_var_index], X_train_1[:, second_top_var_index], label='Actual Class-1 Examples')\n",
    "plt.scatter(X_train_0[:X_train_1.shape[0], top_var_index], X_train_0[:X_train_1.shape[0], second_top_var_index],\n",
    "            label='Actual Class-0 Examples')\n",
    "plt.legend()"
   ]
  },
  {
   "cell_type": "code",
   "execution_count": 33,
   "metadata": {},
   "outputs": [],
   "source": [
    "#### Print the FPR,TPR & select the best threshold from the roc curve"
   ]
  },
  {
   "cell_type": "code",
   "execution_count": 34,
   "metadata": {},
   "outputs": [
    {
     "name": "stdout",
     "output_type": "stream",
     "text": [
      "Train auc = 0.9918077917699494\n"
     ]
    }
   ],
   "source": [
    "print('Train auc =', metrics.roc_auc_score(y, clf.predict_proba(X)[:, 1]))"
   ]
  },
  {
   "cell_type": "code",
   "execution_count": 35,
   "metadata": {},
   "outputs": [
    {
     "name": "stdout",
     "output_type": "stream",
     "text": [
      "0.3300423\n"
     ]
    }
   ],
   "source": [
    "fpr, tpr, thresholds = metrics.roc_curve(y,clf.predict_proba(X)[:, 1])\n",
    "threshold = thresholds[np.argmax(tpr-fpr)]\n",
    "print(threshold)"
   ]
  }
 ],
 "metadata": {
  "kernelspec": {
   "display_name": "Python 3",
   "language": "python",
   "name": "python3"
  },
  "language_info": {
   "codemirror_mode": {
    "name": "ipython",
    "version": 3
   },
   "file_extension": ".py",
   "mimetype": "text/x-python",
   "name": "python",
   "nbconvert_exporter": "python",
   "pygments_lexer": "ipython3",
   "version": "3.8.5"
  }
 },
 "nbformat": 4,
 "nbformat_minor": 2
}
